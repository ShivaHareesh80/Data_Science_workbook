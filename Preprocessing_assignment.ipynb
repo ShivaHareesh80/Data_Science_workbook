{
  "nbformat": 4,
  "nbformat_minor": 0,
  "metadata": {
    "colab": {
      "name": "Preprocessing_assignment.ipynb",
      "provenance": [],
      "collapsed_sections": [],
      "authorship_tag": "ABX9TyNASeZRFQgPGTDxQOfFKAaH",
      "include_colab_link": true
    },
    "kernelspec": {
      "name": "python3",
      "display_name": "Python 3"
    },
    "language_info": {
      "name": "python"
    }
  },
  "cells": [
    {
      "cell_type": "markdown",
      "metadata": {
        "id": "view-in-github",
        "colab_type": "text"
      },
      "source": [
        "<a href=\"https://colab.research.google.com/github/ShivaHareesh80/Data_Science_workbook/blob/main/Preprocessing_assignment.ipynb\" target=\"_parent\"><img src=\"https://colab.research.google.com/assets/colab-badge.svg\" alt=\"Open In Colab\"/></a>"
      ]
    },
    {
      "cell_type": "code",
      "execution_count": null,
      "metadata": {
        "colab": {
          "base_uri": "https://localhost:8080/"
        },
        "id": "gI4Hz32FX741",
        "outputId": "67855244-6e14-45ad-832a-9439ad5dd22e"
      },
      "outputs": [
        {
          "output_type": "stream",
          "name": "stdout",
          "text": [
            "            City Mapped_Sales_Type  Mapped_Item_Code Transaction_Date  \\\n",
            "0      Hyderabad         Take Away              9978        7/31/2018   \n",
            "1      Hyderabad         Take Away              4064        7/31/2018   \n",
            "2      Hyderabad         Main Hall               965        7/31/2018   \n",
            "3      Hyderabad           Express              9978        7/31/2018   \n",
            "4      Hyderabad           Express              1045        7/31/2018   \n",
            "...          ...               ...               ...              ...   \n",
            "30226     Mumbai         Take Away              4056         8/1/2016   \n",
            "30227     Mumbai         Take Away              4058         8/1/2016   \n",
            "30228     Mumbai           Dine-in               964         8/1/2016   \n",
            "30229     Mumbai         Take Away              4066         8/1/2016   \n",
            "30230     Mumbai          Delivery              4061         8/1/2016   \n",
            "\n",
            "       Quantity_Sold  Median_Price  Average_Tax_Percent  Effective_Price  \\\n",
            "0                167         187.0                 0.05       163.700000   \n",
            "1                368         602.0                 0.05       584.329105   \n",
            "2                694         263.0                 0.05       244.835163   \n",
            "3                140         263.0                 0.05       243.500000   \n",
            "4                139         392.0                 0.05       378.960000   \n",
            "...              ...           ...                  ...              ...   \n",
            "30226            615         239.0                 0.14       232.033552   \n",
            "30227           1289         212.8                 0.14       202.575840   \n",
            "30228            140         933.0                 0.21      1063.855517   \n",
            "30229            179         501.0                 0.14       534.060000   \n",
            "30230            117         716.5                 0.15       780.810000   \n",
            "\n",
            "       Percent_Quantity_With_Discount  \\\n",
            "0                                 NaN   \n",
            "1                            0.027237   \n",
            "2                                 NaN   \n",
            "3                                 NaN   \n",
            "4                                 NaN   \n",
            "...                               ...   \n",
            "30226                        0.013889   \n",
            "30227                        0.009338   \n",
            "30228                             NaN   \n",
            "30229                             NaN   \n",
            "30230                             NaN   \n",
            "\n",
            "       Avg_Discount_Percent_On_Discounted_Items  ...  Day  Car_sales  \\\n",
            "0                                           NaN  ...  Tue    7559.28   \n",
            "1                                      1.050000  ...  Tue    7559.28   \n",
            "2                                           NaN  ...  Tue    7559.28   \n",
            "3                                           NaN  ...  Tue    7559.28   \n",
            "4                                           NaN  ...  Tue    7559.28   \n",
            "...                                         ...  ...  ...        ...   \n",
            "30226                                  0.883279  ...  Mon    8033.92   \n",
            "30227                                  1.144999  ...  Mon    8033.92   \n",
            "30228                                       NaN  ...  Mon    8033.92   \n",
            "30229                                       NaN  ...  Mon    8033.92   \n",
            "30230                                       NaN  ...  Mon    8033.92   \n",
            "\n",
            "      F_and_B_Inflation  F_and_B_Inflation_Adjusted_Effective_Price  \\\n",
            "0                 143.7                                    0.832985   \n",
            "1                 143.7                                    3.760119   \n",
            "2                 143.7                                    1.397600   \n",
            "3                 143.7                                    1.388309   \n",
            "4                 143.7                                    2.330967   \n",
            "...                 ...                                         ...   \n",
            "30226             140.1                                    1.342138   \n",
            "30227             140.1                                    1.131876   \n",
            "30228             140.1                                    7.279483   \n",
            "30229             140.1                                    3.497930   \n",
            "30230             140.1                                    5.259172   \n",
            "\n",
            "       F_and_B_Inflation_Adjusted_Median_Price  First_Week_Of_The_Month_Dummy  \\\n",
            "0                                     0.793319                              0   \n",
            "1                                     3.681280                              0   \n",
            "2                                     1.322199                              0   \n",
            "3                                     1.322199                              0   \n",
            "4                                     2.219903                              0   \n",
            "...                                        ...                            ...   \n",
            "30226                                 1.184868                              1   \n",
            "30227                                 0.997859                              1   \n",
            "30228                                 6.138473                              1   \n",
            "30229                                 3.054961                              1   \n",
            "30230                                 4.593148                              1   \n",
            "\n",
            "       Last_Week_Of_The_Month_Dummy  Day_Of_The_Week_Seasonality  \\\n",
            "0                                 1                         0.86   \n",
            "1                                 1                         0.83   \n",
            "2                                 1                         1.08   \n",
            "3                                 1                         0.78   \n",
            "4                                 1                         0.73   \n",
            "...                             ...                          ...   \n",
            "30226                             0                         0.78   \n",
            "30227                             0                         0.78   \n",
            "30228                             0                         0.77   \n",
            "30229                             0                         0.66   \n",
            "30230                             0                         0.61   \n",
            "\n",
            "       Month_Of_The_Year_Seasonality  Two_Wheeler_sales  \n",
            "0                               0.91           37307.52  \n",
            "1                               0.91           37307.52  \n",
            "2                               1.08           37307.52  \n",
            "3                               0.08           37307.52  \n",
            "4                               0.08           37307.52  \n",
            "...                              ...                ...  \n",
            "30226                           0.99           27870.40  \n",
            "30227                           0.99           27870.40  \n",
            "30228                           0.94           27870.40  \n",
            "30229                           0.99           27870.40  \n",
            "30230                           0.89           27870.40  \n",
            "\n",
            "[30231 rows x 22 columns]\n"
          ]
        }
      ],
      "source": [
        "import pandas as pd\n",
        "url = 'https://raw.githubusercontent.com/balaji2v/Inceptez_Batch19/main/Demand_txn_updated.csv'\n",
        "df = pd.read_csv(url)\n",
        "print(df)"
      ]
    },
    {
      "cell_type": "markdown",
      "source": [
        "1. Read  the  demand  transaction  file and  print the first 15 rows and dtypes"
      ],
      "metadata": {
        "id": "dyy2OZl4YW8K"
      }
    },
    {
      "cell_type": "code",
      "source": [
        "print(df.head(15))"
      ],
      "metadata": {
        "colab": {
          "base_uri": "https://localhost:8080/"
        },
        "id": "cKFdwf2CYeWi",
        "outputId": "3df7515e-aef2-4a39-9029-02f3467604f8"
      },
      "execution_count": null,
      "outputs": [
        {
          "output_type": "stream",
          "name": "stdout",
          "text": [
            "         City Mapped_Sales_Type  Mapped_Item_Code Transaction_Date  \\\n",
            "0   Hyderabad         Take Away              9978        7/31/2018   \n",
            "1   Hyderabad         Take Away              4064        7/31/2018   \n",
            "2   Hyderabad         Main Hall               965        7/31/2018   \n",
            "3   Hyderabad           Express              9978        7/31/2018   \n",
            "4   Hyderabad           Express              1045        7/31/2018   \n",
            "5   Hyderabad          Delivery              4056        7/31/2018   \n",
            "6   Hyderabad         Take Away              4065        7/31/2018   \n",
            "7   Hyderabad           Express              4058        7/31/2018   \n",
            "8   Hyderabad           Express              4057        7/31/2018   \n",
            "9   Hyderabad           Express              4056        7/31/2018   \n",
            "10  Hyderabad          Delivery              4061        7/31/2018   \n",
            "11  Hyderabad           Express              4055        7/31/2018   \n",
            "12  Hyderabad         Take Away              4061        7/31/2018   \n",
            "13  Hyderabad           Dine-in              9978        7/31/2018   \n",
            "14  Hyderabad           Dine-in               979        7/31/2018   \n",
            "\n",
            "    Quantity_Sold  Median_Price  Average_Tax_Percent  Effective_Price  \\\n",
            "0             167         187.0                 0.05       163.700000   \n",
            "1             368         602.0                 0.05       584.329105   \n",
            "2             694         263.0                 0.05       244.835163   \n",
            "3             140         263.0                 0.05       243.500000   \n",
            "4             139         392.0                 0.05       378.960000   \n",
            "5             617         322.0                 0.05       305.354585   \n",
            "6             217         652.0                 0.05       651.958113   \n",
            "7             115         312.0                 0.05       294.960000   \n",
            "8             113         312.0                 0.05       294.960000   \n",
            "9             120         392.0                 0.05       378.955556   \n",
            "10            144         942.0                 0.05       942.631515   \n",
            "11            122         362.0                 0.05       347.458182   \n",
            "12            233         802.0                 0.05       809.456066   \n",
            "13            118         263.0                 0.05       243.500000   \n",
            "14            164        1222.0                 0.05      1250.460000   \n",
            "\n",
            "    Percent_Quantity_With_Discount  Avg_Discount_Percent_On_Discounted_Items  \\\n",
            "0                              NaN                                       NaN   \n",
            "1                         0.027237                                  1.050000   \n",
            "2                              NaN                                       NaN   \n",
            "3                              NaN                                       NaN   \n",
            "4                              NaN                                       NaN   \n",
            "5                         0.003953                                  0.105020   \n",
            "6                              NaN                                       NaN   \n",
            "7                              NaN                                       NaN   \n",
            "8                              NaN                                       NaN   \n",
            "9                              NaN                                       NaN   \n",
            "10                        0.151515                                  0.105006   \n",
            "11                             NaN                                       NaN   \n",
            "12                             NaN                                       NaN   \n",
            "13                             NaN                                       NaN   \n",
            "14                             NaN                                       NaN   \n",
            "\n",
            "    ...  Day  Car_sales F_and_B_Inflation  \\\n",
            "0   ...  Tue    7559.28             143.7   \n",
            "1   ...  Tue    7559.28             143.7   \n",
            "2   ...  Tue    7559.28             143.7   \n",
            "3   ...  Tue    7559.28             143.7   \n",
            "4   ...  Tue    7559.28             143.7   \n",
            "5   ...  Tue    7559.28             143.7   \n",
            "6   ...  Tue    7559.28             143.7   \n",
            "7   ...  Tue    7559.28             143.7   \n",
            "8   ...  Tue    7559.28             143.7   \n",
            "9   ...  Tue    7559.28             143.7   \n",
            "10  ...  Tue    7559.28             143.7   \n",
            "11  ...  Tue    7559.28             143.7   \n",
            "12  ...  Tue    7559.28             143.7   \n",
            "13  ...  Tue    7559.28             143.7   \n",
            "14  ...  Tue    7559.28             143.7   \n",
            "\n",
            "    F_and_B_Inflation_Adjusted_Effective_Price  \\\n",
            "0                                     0.832985   \n",
            "1                                     3.760119   \n",
            "2                                     1.397600   \n",
            "3                                     1.388309   \n",
            "4                                     2.330967   \n",
            "5                                     1.818751   \n",
            "6                                     4.230745   \n",
            "7                                     1.746416   \n",
            "8                                     1.746416   \n",
            "9                                     2.330936   \n",
            "10                                    6.253525   \n",
            "11                                    2.111748   \n",
            "12                                    5.326765   \n",
            "13                                    1.388309   \n",
            "14                                    8.395685   \n",
            "\n",
            "    F_and_B_Inflation_Adjusted_Median_Price  First_Week_Of_The_Month_Dummy  \\\n",
            "0                                  0.793319                              0   \n",
            "1                                  3.681280                              0   \n",
            "2                                  1.322199                              0   \n",
            "3                                  1.322199                              0   \n",
            "4                                  2.219903                              0   \n",
            "5                                  1.732777                              0   \n",
            "6                                  4.029228                              0   \n",
            "7                                  1.663187                              0   \n",
            "8                                  1.663187                              0   \n",
            "9                                  2.219903                              0   \n",
            "10                                 6.047321                              0   \n",
            "11                                 2.011134                              0   \n",
            "12                                 5.073069                              0   \n",
            "13                                 1.322199                              0   \n",
            "14                                 7.995825                              0   \n",
            "\n",
            "    Last_Week_Of_The_Month_Dummy  Day_Of_The_Week_Seasonality  \\\n",
            "0                              1                         0.86   \n",
            "1                              1                         0.83   \n",
            "2                              1                         1.08   \n",
            "3                              1                         0.78   \n",
            "4                              1                         0.73   \n",
            "5                              1                         0.82   \n",
            "6                              1                         0.86   \n",
            "7                              1                         0.70   \n",
            "8                              1                         0.72   \n",
            "9                              1                         0.84   \n",
            "10                             1                         0.75   \n",
            "11                             1                         0.71   \n",
            "12                             1                         0.82   \n",
            "13                             1                         0.85   \n",
            "14                             1                         0.86   \n",
            "\n",
            "    Month_Of_The_Year_Seasonality  Two_Wheeler_sales  \n",
            "0                            0.91           37307.52  \n",
            "1                            0.91           37307.52  \n",
            "2                            1.08           37307.52  \n",
            "3                            0.08           37307.52  \n",
            "4                            0.08           37307.52  \n",
            "5                            1.06           37307.52  \n",
            "6                            0.91           37307.52  \n",
            "7                            0.08           37307.52  \n",
            "8                            0.08           37307.52  \n",
            "9                            0.08           37307.52  \n",
            "10                           1.06           37307.52  \n",
            "11                           0.08           37307.52  \n",
            "12                           0.91           37307.52  \n",
            "13                           1.09           37307.52  \n",
            "14                           1.09           37307.52  \n",
            "\n",
            "[15 rows x 22 columns]\n"
          ]
        }
      ]
    },
    {
      "cell_type": "markdown",
      "source": [
        "2. Convert the transaction date column to a date column using pd.to_datetime function"
      ],
      "metadata": {
        "id": "yHESyhN3Y-AL"
      }
    },
    {
      "cell_type": "code",
      "source": [
        "df[\"Date\"]= pd.to_datetime(df[\"Transaction_Date\"])\n",
        "print(df['Date'])\n"
      ],
      "metadata": {
        "colab": {
          "base_uri": "https://localhost:8080/"
        },
        "id": "iDX1AFIMZAXa",
        "outputId": "92352f70-bf1f-421e-b6a1-ba98e81abbf0"
      },
      "execution_count": null,
      "outputs": [
        {
          "output_type": "stream",
          "name": "stdout",
          "text": [
            "0       2018-07-31\n",
            "1       2018-07-31\n",
            "2       2018-07-31\n",
            "3       2018-07-31\n",
            "4       2018-07-31\n",
            "           ...    \n",
            "30226   2016-08-01\n",
            "30227   2016-08-01\n",
            "30228   2016-08-01\n",
            "30229   2016-08-01\n",
            "30230   2016-08-01\n",
            "Name: Date, Length: 30231, dtype: datetime64[ns]\n"
          ]
        }
      ]
    },
    {
      "cell_type": "markdown",
      "source": [
        "3. Subset  the  dataframe  for  transaction  date  greater  than  '2016-08-01'"
      ],
      "metadata": {
        "id": "SIDzk_BObBPl"
      }
    },
    {
      "cell_type": "code",
      "source": [
        "df1= df[(df['Transaction_Date'] > '2016-08-01') ]\n",
        "print(df1)\n"
      ],
      "metadata": {
        "id": "KDLOvXNXbJLJ",
        "colab": {
          "base_uri": "https://localhost:8080/"
        },
        "outputId": "6a3a1bfc-a31b-442f-b1a1-880b5c1d7c19"
      },
      "execution_count": null,
      "outputs": [
        {
          "output_type": "stream",
          "name": "stdout",
          "text": [
            "            City Mapped_Sales_Type  Mapped_Item_Code Transaction_Date  \\\n",
            "0      Hyderabad         Take Away              9978        7/31/2018   \n",
            "1      Hyderabad         Take Away              4064        7/31/2018   \n",
            "2      Hyderabad         Main Hall               965        7/31/2018   \n",
            "3      Hyderabad           Express              9978        7/31/2018   \n",
            "4      Hyderabad           Express              1045        7/31/2018   \n",
            "...          ...               ...               ...              ...   \n",
            "30226     Mumbai         Take Away              4056         8/1/2016   \n",
            "30227     Mumbai         Take Away              4058         8/1/2016   \n",
            "30228     Mumbai           Dine-in               964         8/1/2016   \n",
            "30229     Mumbai         Take Away              4066         8/1/2016   \n",
            "30230     Mumbai          Delivery              4061         8/1/2016   \n",
            "\n",
            "       Quantity_Sold  Median_Price  Average_Tax_Percent  Effective_Price  \\\n",
            "0                167         187.0                 0.05       163.700000   \n",
            "1                368         602.0                 0.05       584.329105   \n",
            "2                694         263.0                 0.05       244.835163   \n",
            "3                140         263.0                 0.05       243.500000   \n",
            "4                139         392.0                 0.05       378.960000   \n",
            "...              ...           ...                  ...              ...   \n",
            "30226            615         239.0                 0.14       232.033552   \n",
            "30227           1289         212.8                 0.14       202.575840   \n",
            "30228            140         933.0                 0.21      1063.855517   \n",
            "30229            179         501.0                 0.14       534.060000   \n",
            "30230            117         716.5                 0.15       780.810000   \n",
            "\n",
            "       Percent_Quantity_With_Discount  \\\n",
            "0                                 NaN   \n",
            "1                            0.027237   \n",
            "2                                 NaN   \n",
            "3                                 NaN   \n",
            "4                                 NaN   \n",
            "...                               ...   \n",
            "30226                        0.013889   \n",
            "30227                        0.009338   \n",
            "30228                             NaN   \n",
            "30229                             NaN   \n",
            "30230                             NaN   \n",
            "\n",
            "       Avg_Discount_Percent_On_Discounted_Items  ...  Car_sales  \\\n",
            "0                                           NaN  ...    7559.28   \n",
            "1                                      1.050000  ...    7559.28   \n",
            "2                                           NaN  ...    7559.28   \n",
            "3                                           NaN  ...    7559.28   \n",
            "4                                           NaN  ...    7559.28   \n",
            "...                                         ...  ...        ...   \n",
            "30226                                  0.883279  ...    8033.92   \n",
            "30227                                  1.144999  ...    8033.92   \n",
            "30228                                       NaN  ...    8033.92   \n",
            "30229                                       NaN  ...    8033.92   \n",
            "30230                                       NaN  ...    8033.92   \n",
            "\n",
            "       F_and_B_Inflation F_and_B_Inflation_Adjusted_Effective_Price  \\\n",
            "0                  143.7                                   0.832985   \n",
            "1                  143.7                                   3.760119   \n",
            "2                  143.7                                   1.397600   \n",
            "3                  143.7                                   1.388309   \n",
            "4                  143.7                                   2.330967   \n",
            "...                  ...                                        ...   \n",
            "30226              140.1                                   1.342138   \n",
            "30227              140.1                                   1.131876   \n",
            "30228              140.1                                   7.279483   \n",
            "30229              140.1                                   3.497930   \n",
            "30230              140.1                                   5.259172   \n",
            "\n",
            "       F_and_B_Inflation_Adjusted_Median_Price  First_Week_Of_The_Month_Dummy  \\\n",
            "0                                     0.793319                              0   \n",
            "1                                     3.681280                              0   \n",
            "2                                     1.322199                              0   \n",
            "3                                     1.322199                              0   \n",
            "4                                     2.219903                              0   \n",
            "...                                        ...                            ...   \n",
            "30226                                 1.184868                              1   \n",
            "30227                                 0.997859                              1   \n",
            "30228                                 6.138473                              1   \n",
            "30229                                 3.054961                              1   \n",
            "30230                                 4.593148                              1   \n",
            "\n",
            "       Last_Week_Of_The_Month_Dummy  Day_Of_The_Week_Seasonality  \\\n",
            "0                                 1                         0.86   \n",
            "1                                 1                         0.83   \n",
            "2                                 1                         1.08   \n",
            "3                                 1                         0.78   \n",
            "4                                 1                         0.73   \n",
            "...                             ...                          ...   \n",
            "30226                             0                         0.78   \n",
            "30227                             0                         0.78   \n",
            "30228                             0                         0.77   \n",
            "30229                             0                         0.66   \n",
            "30230                             0                         0.61   \n",
            "\n",
            "       Month_Of_The_Year_Seasonality  Two_Wheeler_sales       Date  \n",
            "0                               0.91           37307.52 2018-07-31  \n",
            "1                               0.91           37307.52 2018-07-31  \n",
            "2                               1.08           37307.52 2018-07-31  \n",
            "3                               0.08           37307.52 2018-07-31  \n",
            "4                               0.08           37307.52 2018-07-31  \n",
            "...                              ...                ...        ...  \n",
            "30226                           0.99           27870.40 2016-08-01  \n",
            "30227                           0.99           27870.40 2016-08-01  \n",
            "30228                           0.94           27870.40 2016-08-01  \n",
            "30229                           0.99           27870.40 2016-08-01  \n",
            "30230                           0.89           27870.40 2016-08-01  \n",
            "\n",
            "[17769 rows x 23 columns]\n"
          ]
        }
      ]
    },
    {
      "cell_type": "markdown",
      "source": [
        "4. Look for unique  values  in  Mapped_Sales_Type"
      ],
      "metadata": {
        "id": "07DBkZjNGs2d"
      }
    },
    {
      "cell_type": "code",
      "source": [
        "k = df.Mapped_Sales_Type.unique()\n",
        "print(k)"
      ],
      "metadata": {
        "colab": {
          "base_uri": "https://localhost:8080/"
        },
        "id": "iuRNV55rGv8M",
        "outputId": "f1d83ce9-bc82-43c1-9a1e-b041f4cb0ff5"
      },
      "execution_count": null,
      "outputs": [
        {
          "output_type": "stream",
          "name": "stdout",
          "text": [
            "['Take Away' 'Main Hall' 'Express' 'Delivery' 'Dine-in' 'Bakery']\n"
          ]
        }
      ]
    },
    {
      "cell_type": "markdown",
      "source": [
        "5. Subset  the entire dataframe, based on the below condition, to a new dataframe and work on the following questions"
      ],
      "metadata": {
        "id": "UgkK6RVyHWoF"
      }
    },
    {
      "cell_type": "markdown",
      "source": [
        "a. Condition: Avg_Discount_Percent_On_Discounted_Items should be less than 1.0"
      ],
      "metadata": {
        "id": "k_cqtzNEHfuu"
      }
    },
    {
      "cell_type": "code",
      "source": [
        "df1= df[ (df['Avg_Discount_Percent_On_Discounted_Items'] < 1.0) ]\n",
        "print(df1)"
      ],
      "metadata": {
        "colab": {
          "base_uri": "https://localhost:8080/"
        },
        "id": "6QU2g1YuHyEN",
        "outputId": "bec27f6a-0621-42ef-9a15-a599be89094e"
      },
      "execution_count": null,
      "outputs": [
        {
          "output_type": "stream",
          "name": "stdout",
          "text": [
            "            City Mapped_Sales_Type  Mapped_Item_Code Transaction_Date  \\\n",
            "5      Hyderabad          Delivery              4056        7/31/2018   \n",
            "10     Hyderabad          Delivery              4061        7/31/2018   \n",
            "20     Hyderabad           Dine-in               966        7/31/2018   \n",
            "24     Hyderabad           Dine-in               965        7/31/2018   \n",
            "26     Hyderabad          Delivery              4068        7/31/2018   \n",
            "...          ...               ...               ...              ...   \n",
            "30198     Mumbai         Take Away              4055         8/1/2016   \n",
            "30201     Mumbai           Dine-in               978         8/1/2016   \n",
            "30212     Mumbai           Dine-in               970         8/1/2016   \n",
            "30213     Mumbai           Dine-in               965         8/1/2016   \n",
            "30226     Mumbai         Take Away              4056         8/1/2016   \n",
            "\n",
            "       Quantity_Sold  Median_Price  Average_Tax_Percent  Effective_Price  \\\n",
            "5                617         322.0                 0.05       305.354585   \n",
            "10               144         942.0                 0.05       942.631515   \n",
            "20              1250         392.0                 0.05       378.840053   \n",
            "24              1934         362.0                 0.05       347.258327   \n",
            "26               148         622.0                 0.05       618.898649   \n",
            "...              ...           ...                  ...              ...   \n",
            "30198           1290         230.0                 0.15       222.456760   \n",
            "30201            213         989.0                 0.21      1135.791961   \n",
            "30212            534         273.0                 0.20       281.371135   \n",
            "30213           1410         317.0                 0.20       333.437775   \n",
            "30226            615         239.0                 0.14       232.033552   \n",
            "\n",
            "       Percent_Quantity_With_Discount  \\\n",
            "5                            0.003953   \n",
            "10                           0.151515   \n",
            "20                           0.003512   \n",
            "24                           0.001646   \n",
            "26                           0.027027   \n",
            "...                               ...   \n",
            "30198                        0.010178   \n",
            "30201                        0.009804   \n",
            "30212                        0.007092   \n",
            "30213                        0.004619   \n",
            "30226                        0.013889   \n",
            "\n",
            "       Avg_Discount_Percent_On_Discounted_Items  ...  Car_sales  \\\n",
            "5                                      0.105020  ...    7559.28   \n",
            "10                                     0.105006  ...    7559.28   \n",
            "20                                     0.105008  ...    7559.28   \n",
            "24                                     0.420000  ...    7559.28   \n",
            "26                                     0.105009  ...    7559.28   \n",
            "...                                         ...  ...        ...   \n",
            "30198                                  0.820589  ...    8033.92   \n",
            "30201                                  0.120502  ...    8033.92   \n",
            "30212                                  0.502083  ...    8033.92   \n",
            "30213                                  0.120492  ...    8033.92   \n",
            "30226                                  0.883279  ...    8033.92   \n",
            "\n",
            "       F_and_B_Inflation F_and_B_Inflation_Adjusted_Effective_Price  \\\n",
            "5                  143.7                                   1.818751   \n",
            "10                 143.7                                   6.253525   \n",
            "20                 143.7                                   2.330133   \n",
            "24                 143.7                                   2.110357   \n",
            "26                 143.7                                   4.000686   \n",
            "...                  ...                                        ...   \n",
            "30198              140.1                                   1.273781   \n",
            "30201              140.1                                   7.792948   \n",
            "30212              140.1                                   1.694298   \n",
            "30213              140.1                                   2.065937   \n",
            "30226              140.1                                   1.342138   \n",
            "\n",
            "       F_and_B_Inflation_Adjusted_Median_Price  First_Week_Of_The_Month_Dummy  \\\n",
            "5                                     1.732777                              0   \n",
            "10                                    6.047321                              0   \n",
            "20                                    2.219903                              0   \n",
            "24                                    2.011134                              0   \n",
            "26                                    3.820459                              0   \n",
            "...                                        ...                            ...   \n",
            "30198                                 1.120628                              1   \n",
            "30201                                 6.538187                              1   \n",
            "30212                                 1.427552                              1   \n",
            "30213                                 1.741613                              1   \n",
            "30226                                 1.184868                              1   \n",
            "\n",
            "       Last_Week_Of_The_Month_Dummy  Day_Of_The_Week_Seasonality  \\\n",
            "5                                 1                         0.82   \n",
            "10                                1                         0.75   \n",
            "20                                1                         0.92   \n",
            "24                                1                         0.89   \n",
            "26                                1                         0.64   \n",
            "...                             ...                          ...   \n",
            "30198                             0                         0.75   \n",
            "30201                             0                         0.79   \n",
            "30212                             0                         0.83   \n",
            "30213                             0                         0.83   \n",
            "30226                             0                         0.78   \n",
            "\n",
            "       Month_Of_The_Year_Seasonality  Two_Wheeler_sales       Date  \n",
            "5                               1.06           37307.52 2018-07-31  \n",
            "10                              1.06           37307.52 2018-07-31  \n",
            "20                              1.09           37307.52 2018-07-31  \n",
            "24                              1.09           37307.52 2018-07-31  \n",
            "26                              1.06           37307.52 2018-07-31  \n",
            "...                              ...                ...        ...  \n",
            "30198                           0.99           27870.40 2016-08-01  \n",
            "30201                           0.94           27870.40 2016-08-01  \n",
            "30212                           0.94           27870.40 2016-08-01  \n",
            "30213                           0.94           27870.40 2016-08-01  \n",
            "30226                           0.99           27870.40 2016-08-01  \n",
            "\n",
            "[8902 rows x 23 columns]\n"
          ]
        }
      ]
    },
    {
      "cell_type": "markdown",
      "source": [
        "b. Check for sanity if the new dataframe contains Avg_Discount_Percent_On_Discounted_Items greater than or equal to 1.0"
      ],
      "metadata": {
        "id": "8SqSZ73XJb-H"
      }
    },
    {
      "cell_type": "code",
      "source": [
        "df2 = df1[(df1['Avg_Discount_Percent_On_Discounted_Items'] >= 1.0)]\n",
        "print(df2)"
      ],
      "metadata": {
        "colab": {
          "base_uri": "https://localhost:8080/"
        },
        "id": "GIwRfebOJglt",
        "outputId": "33442741-ba41-458c-f960-bc372a9be7fa"
      },
      "execution_count": null,
      "outputs": [
        {
          "output_type": "stream",
          "name": "stdout",
          "text": [
            "Empty DataFrame\n",
            "Columns: [City, Mapped_Sales_Type, Mapped_Item_Code, Transaction_Date, Quantity_Sold, Median_Price, Average_Tax_Percent, Effective_Price, Percent_Quantity_With_Discount, Avg_Discount_Percent_On_Discounted_Items, Year, Month, Day, Car_sales, F_and_B_Inflation, F_and_B_Inflation_Adjusted_Effective_Price, F_and_B_Inflation_Adjusted_Median_Price, First_Week_Of_The_Month_Dummy, Last_Week_Of_The_Month_Dummy, Day_Of_The_Week_Seasonality, Month_Of_The_Year_Seasonality, Two_Wheeler_sales, Date]\n",
            "Index: []\n",
            "\n",
            "[0 rows x 23 columns]\n"
          ]
        }
      ]
    },
    {
      "cell_type": "markdown",
      "source": [
        "6. Groupby  'City', 'Mapped_Sales_Type',  'Mapped_Item_Code',  'Transaction_Date' and perform  following  aggregate  operations  on  respective  columns  as  mentioned (note: Only one groupby to do all the below aggregations)"
      ],
      "metadata": {
        "id": "mtxhw0XGK-g_"
      }
    },
    {
      "cell_type": "markdown",
      "source": [
        "a. Quantity_Sold – sum"
      ],
      "metadata": {
        "id": "dsANz3idLEy1"
      }
    },
    {
      "cell_type": "code",
      "source": [
        "df1 =df.groupby([\"City\",\"Mapped_Sales_Type\",\"Mapped_Item_Code\",\"Transaction_Date\"]).agg({\"Quantity_Sold\": [\"sum\"] })\n",
        "print(df1)"
      ],
      "metadata": {
        "colab": {
          "base_uri": "https://localhost:8080/"
        },
        "id": "f7HQV3sNLIul",
        "outputId": "9e613364-fd43-4d34-c2c3-e6ca8aefa5f0"
      },
      "execution_count": null,
      "outputs": [
        {
          "output_type": "stream",
          "name": "stdout",
          "text": [
            "                                                            Quantity_Sold\n",
            "                                                                      sum\n",
            "City    Mapped_Sales_Type Mapped_Item_Code Transaction_Date              \n",
            "Chennai Bakery            4057             8/5/2017                   110\n",
            "                          9978             1/22/2018                  105\n",
            "        Delivery          4055             1/1/2018                   714\n",
            "                                           1/10/2018                  567\n",
            "                                           1/11/2018                  499\n",
            "...                                                                   ...\n",
            "Mumbai  Take Away         4068             9/5/2016                   200\n",
            "                                           9/6/2016                   210\n",
            "                                           9/7/2016                   209\n",
            "                                           9/8/2016                   193\n",
            "                                           9/9/2016                   256\n",
            "\n",
            "[30231 rows x 1 columns]\n"
          ]
        }
      ]
    },
    {
      "cell_type": "markdown",
      "source": [
        "b. Median_Price – median"
      ],
      "metadata": {
        "id": "e28vDo2qNEE9"
      }
    },
    {
      "cell_type": "code",
      "source": [
        "df1 =df.groupby([\"City\",\"Mapped_Sales_Type\",\"Mapped_Item_Code\",\"Transaction_Date\"]).agg({\"Median_Price\" : [\"median\"]})\n",
        "print(df1)"
      ],
      "metadata": {
        "colab": {
          "base_uri": "https://localhost:8080/"
        },
        "id": "k10HA5qWNGYC",
        "outputId": "8eed7a7c-0fc4-40c6-b7a5-0e040bc88fb1"
      },
      "execution_count": null,
      "outputs": [
        {
          "output_type": "stream",
          "name": "stdout",
          "text": [
            "                                                            Median_Price\n",
            "                                                                  median\n",
            "City    Mapped_Sales_Type Mapped_Item_Code Transaction_Date             \n",
            "Chennai Bakery            4057             8/5/2017                223.0\n",
            "                          9978             1/22/2018               178.0\n",
            "        Delivery          4055             1/1/2018                281.1\n",
            "                                           1/10/2018               281.1\n",
            "                                           1/11/2018               281.1\n",
            "...                                                                  ...\n",
            "Mumbai  Take Away         4068             9/5/2016                405.0\n",
            "                                           9/6/2016                405.0\n",
            "                                           9/7/2016                405.0\n",
            "                                           9/8/2016                405.0\n",
            "                                           9/9/2016                405.0\n",
            "\n",
            "[30231 rows x 1 columns]\n"
          ]
        }
      ]
    },
    {
      "cell_type": "markdown",
      "source": [
        "c. Effective_Price – median"
      ],
      "metadata": {
        "id": "KL020wV7NiHv"
      }
    },
    {
      "cell_type": "code",
      "source": [
        "df1 =df.groupby([\"City\",\"Mapped_Sales_Type\",\"Mapped_Item_Code\",\"Transaction_Date\"]).agg({\"Effective_Price\" : [\"median\"]})\n",
        "print(df1)"
      ],
      "metadata": {
        "colab": {
          "base_uri": "https://localhost:8080/"
        },
        "id": "uRsxiFneNug2",
        "outputId": "9028553a-6cc7-4004-b878-bb9be40d3e2c"
      },
      "execution_count": null,
      "outputs": [
        {
          "output_type": "stream",
          "name": "stdout",
          "text": [
            "                                                            Effective_Price\n",
            "                                                                     median\n",
            "City    Mapped_Sales_Type Mapped_Item_Code Transaction_Date                \n",
            "Chennai Bakery            4057             8/5/2017              221.000000\n",
            "                          9978             1/22/2018             154.250000\n",
            "        Delivery          4055             1/1/2018              262.466899\n",
            "                                           1/10/2018             262.359057\n",
            "                                           1/11/2018             262.446314\n",
            "...                                                                     ...\n",
            "Mumbai  Take Away         4068             9/5/2016              424.140000\n",
            "                                           9/6/2016              424.140000\n",
            "                                           9/7/2016              424.140000\n",
            "                                           9/8/2016              424.140000\n",
            "                                           9/9/2016              424.140000\n",
            "\n",
            "[30231 rows x 1 columns]\n"
          ]
        }
      ]
    },
    {
      "cell_type": "markdown",
      "source": [
        "7. Display the data for Effective_Price = not null and just print the last 5 rows (hint:                 use .notnull function)"
      ],
      "metadata": {
        "id": "ZEc_z7TgN4Ke"
      }
    },
    {
      "cell_type": "code",
      "source": [
        "a = df.Effective_Price.notnull()\n",
        "print(a.tail(5))\n"
      ],
      "metadata": {
        "colab": {
          "base_uri": "https://localhost:8080/"
        },
        "id": "HpZyP-U4N95n",
        "outputId": "3b294d22-ca74-45ee-80bd-03921a162956"
      },
      "execution_count": null,
      "outputs": [
        {
          "output_type": "stream",
          "name": "stdout",
          "text": [
            "30226    True\n",
            "30227    True\n",
            "30228    True\n",
            "30229    True\n",
            "30230    True\n",
            "Name: Effective_Price, dtype: bool\n"
          ]
        }
      ]
    },
    {
      "cell_type": "markdown",
      "source": [
        "8. Display  the data  for  city = Chennai  AND  Mapped_Sales_Type = Delivery  and  print  top  5 records (hint  use  loc  function  to  subset,  then “&”  operator  to  filter  both  the  above cities)"
      ],
      "metadata": {
        "id": "ErPmNNOCPUUo"
      }
    },
    {
      "cell_type": "code",
      "source": [
        "a = df.loc[(df['City'] == 'Chennai') & (df['Mapped_Sales_Type'] == 'Delivery'),['City','Mapped_Sales_Type']]\n",
        "print(a.head(5))\n"
      ],
      "metadata": {
        "colab": {
          "base_uri": "https://localhost:8080/"
        },
        "id": "EVblkRXMPXQl",
        "outputId": "5794de9a-b834-4016-b687-cd210de517c6"
      },
      "execution_count": null,
      "outputs": [
        {
          "output_type": "stream",
          "name": "stdout",
          "text": [
            "         City Mapped_Sales_Type\n",
            "8379  Chennai          Delivery\n",
            "8384  Chennai          Delivery\n",
            "8387  Chennai          Delivery\n",
            "8388  Chennai          Delivery\n",
            "8392  Chennai          Delivery\n"
          ]
        }
      ]
    },
    {
      "cell_type": "markdown",
      "source": [
        "9. Display  the  data  for  the  column “Day” with  values  Mon, Tue and Wed (hint: use .isin function)"
      ],
      "metadata": {
        "id": "CV_IUBlo0kBb"
      }
    },
    {
      "cell_type": "code",
      "source": [
        "df2 = df['Day'].isin(['Mon','Tue','Wed'])\n",
        "print(df2)"
      ],
      "metadata": {
        "colab": {
          "base_uri": "https://localhost:8080/"
        },
        "id": "vM-qkNxfV-DA",
        "outputId": "feb8f58a-714f-4bbf-c1ac-88188615ccf5"
      },
      "execution_count": null,
      "outputs": [
        {
          "output_type": "stream",
          "name": "stdout",
          "text": [
            "0        True\n",
            "1        True\n",
            "2        True\n",
            "3        True\n",
            "4        True\n",
            "         ... \n",
            "30226    True\n",
            "30227    True\n",
            "30228    True\n",
            "30229    True\n",
            "30230    True\n",
            "Name: Day, Length: 30231, dtype: bool\n"
          ]
        }
      ]
    },
    {
      "cell_type": "markdown",
      "source": [
        "10. Display the data for Percent_Quantity_With_Discount not equal to 0.0 (hint: loc function with != operator)\n"
      ],
      "metadata": {
        "id": "5Y4kiVYO1U5p"
      }
    },
    {
      "cell_type": "code",
      "source": [
        "a = df.loc[(df['Percent_Quantity_With_Discount'] != 0.0),['Percent_Quantity_With_Discount']]\n",
        "print(a)\n"
      ],
      "metadata": {
        "colab": {
          "base_uri": "https://localhost:8080/"
        },
        "id": "Hbyvn5I51duf",
        "outputId": "309b7825-ee54-4d04-ad16-0a69e8cbe650"
      },
      "execution_count": null,
      "outputs": [
        {
          "output_type": "stream",
          "name": "stdout",
          "text": [
            "       Percent_Quantity_With_Discount\n",
            "0                                 NaN\n",
            "1                            0.027237\n",
            "2                                 NaN\n",
            "3                                 NaN\n",
            "4                                 NaN\n",
            "...                               ...\n",
            "30226                        0.013889\n",
            "30227                        0.009338\n",
            "30228                             NaN\n",
            "30229                             NaN\n",
            "30230                             NaN\n",
            "\n",
            "[30224 rows x 1 columns]\n"
          ]
        }
      ]
    },
    {
      "cell_type": "markdown",
      "source": [
        "10. Add a column “Range” to the existing dataframe for below condition"
      ],
      "metadata": {
        "id": "EcZB5y_f5AAz"
      }
    },
    {
      "cell_type": "markdown",
      "source": [
        "a. 1 for Effective_Price > 500\n",
        "\n"
      ],
      "metadata": {
        "id": "radxKz2U5Jdq"
      }
    },
    {
      "cell_type": "markdown",
      "source": [
        "b.0.5 otherwise"
      ],
      "metadata": {
        "id": "8x3uy15o6jt1"
      }
    },
    {
      "cell_type": "code",
      "source": [
        "df.loc[df['Effective_Price'] >500, 'Range'] = 1\n",
        "df.loc[df['Effective_Price'] < 500, 'Range'] = 0.5 \n",
        "print(df['Range'])\n"
      ],
      "metadata": {
        "colab": {
          "base_uri": "https://localhost:8080/"
        },
        "id": "rAjQ_eMn5Nup",
        "outputId": "aa26d557-fd63-4ab0-8219-b093cbf7e73d"
      },
      "execution_count": null,
      "outputs": [
        {
          "output_type": "stream",
          "name": "stdout",
          "text": [
            "0        0.5\n",
            "1        1.0\n",
            "2        0.5\n",
            "3        0.5\n",
            "4        0.5\n",
            "        ... \n",
            "30226    0.5\n",
            "30227    0.5\n",
            "30228    1.0\n",
            "30229    1.0\n",
            "30230    1.0\n",
            "Name: Range, Length: 30231, dtype: float64\n"
          ]
        }
      ]
    },
    {
      "cell_type": "markdown",
      "source": [
        "11.Read the demand transaction file again and perform following operations for practice\n"
      ],
      "metadata": {
        "id": "UFRoCrrj8z4V"
      }
    },
    {
      "cell_type": "markdown",
      "source": [
        "Handle the missing values in the column Percent_Quantity_With_Discount with strategy = mean\n"
      ],
      "metadata": {
        "id": "jI5VORNV9NLK"
      }
    },
    {
      "cell_type": "code",
      "source": [
        "x = df['Percent_Quantity_With_Discount'].mean()\n",
        "df['Percent_Quantity_With_Discount'] = df['Percent_Quantity_With_Discount'].fillna(x)\n",
        "print(df['Percent_Quantity_With_Discount'])"
      ],
      "metadata": {
        "colab": {
          "base_uri": "https://localhost:8080/"
        },
        "id": "NyDX_WM79U2i",
        "outputId": "126c1f53-fd85-468c-9cfb-a323ae12bbc4"
      },
      "execution_count": null,
      "outputs": [
        {
          "output_type": "stream",
          "name": "stdout",
          "text": [
            "0        0.098011\n",
            "1        0.027237\n",
            "2        0.098011\n",
            "3        0.098011\n",
            "4        0.098011\n",
            "           ...   \n",
            "30226    0.013889\n",
            "30227    0.009338\n",
            "30228    0.098011\n",
            "30229    0.098011\n",
            "30230    0.098011\n",
            "Name: Percent_Quantity_With_Discount, Length: 30231, dtype: float64\n"
          ]
        }
      ]
    }
  ]
}