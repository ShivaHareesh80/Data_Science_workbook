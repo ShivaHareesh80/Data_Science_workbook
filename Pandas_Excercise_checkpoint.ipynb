{
  "cells": [
    {
      "cell_type": "markdown",
      "metadata": {
        "id": "view-in-github",
        "colab_type": "text"
      },
      "source": [
        "<a href=\"https://colab.research.google.com/github/ShivaHareesh80/Data_Science_workbook/blob/main/Pandas_Excercise_checkpoint.ipynb\" target=\"_parent\"><img src=\"https://colab.research.google.com/assets/colab-badge.svg\" alt=\"Open In Colab\"/></a>"
      ]
    },
    {
      "cell_type": "markdown",
      "metadata": {
        "id": "nW_4axCTrYIA"
      },
      "source": [
        "Import the pandas library  \n",
        "Read the data company.csv in pandas"
      ]
    },
    {
      "cell_type": "code",
      "execution_count": 1,
      "metadata": {
        "id": "fkHw1mc5rYIC",
        "outputId": "c2d67989-19cd-4415-8ffa-ea87603cc142",
        "colab": {
          "base_uri": "https://localhost:8080/"
        }
      },
      "outputs": [
        {
          "output_type": "stream",
          "name": "stdout",
          "text": [
            "     Company   Age  Salary     Place Country\n",
            "0        TCS  20.0     NaN   Chennai   India\n",
            "1    Infosys  30.0     NaN    Mumbai   India\n",
            "2        TCS  35.0  2300.0  Calcutta   India\n",
            "3    Infosys  40.0  3000.0     Delhi   India\n",
            "4        TCS  23.0  4000.0    Mumbai   India\n",
            "..       ...   ...     ...       ...     ...\n",
            "144  Infosys  22.0  8787.0  Calcutta   India\n",
            "145  Infosys  44.0  4034.0     Delhi   India\n",
            "146      TCS  33.0  5034.0    Mumbai   India\n",
            "147  Infosys  22.0  8202.0    Cochin   India\n",
            "148      NaN   NaN     NaN       NaN     NaN\n",
            "\n",
            "[149 rows x 5 columns]\n"
          ]
        }
      ],
      "source": [
        "import pandas as pd\n",
        "url_data= 'https://raw.githubusercontent.com/balaji2v/Inceptez_Batch19/main/company.csv'\n",
        "df = pd.read_csv(url_data)\n",
        "print(df)"
      ]
    },
    {
      "cell_type": "markdown",
      "metadata": {
        "id": "xcXVcTmrrYID"
      },
      "source": [
        "Find the dimension of given data"
      ]
    },
    {
      "cell_type": "code",
      "execution_count": 2,
      "metadata": {
        "id": "nVUla_cKrYID",
        "outputId": "400275ca-32c2-4c88-e218-75bf72643e1b",
        "colab": {
          "base_uri": "https://localhost:8080/"
        }
      },
      "outputs": [
        {
          "output_type": "stream",
          "name": "stdout",
          "text": [
            "2\n"
          ]
        }
      ],
      "source": [
        "print(df.ndim)"
      ]
    },
    {
      "cell_type": "markdown",
      "metadata": {
        "id": "Z6Qt3u00rYID"
      },
      "source": [
        "List down all the columns in data frame"
      ]
    },
    {
      "cell_type": "code",
      "execution_count": 3,
      "metadata": {
        "id": "88aHByVtrYIE",
        "outputId": "ebd8048f-86ea-42b5-96dd-e9ed243cda0d",
        "colab": {
          "base_uri": "https://localhost:8080/"
        }
      },
      "outputs": [
        {
          "output_type": "stream",
          "name": "stdout",
          "text": [
            "     Company   Age  Salary     Place Country\n",
            "0        TCS  20.0     NaN   Chennai   India\n",
            "1    Infosys  30.0     NaN    Mumbai   India\n",
            "2        TCS  35.0  2300.0  Calcutta   India\n",
            "3    Infosys  40.0  3000.0     Delhi   India\n",
            "4        TCS  23.0  4000.0    Mumbai   India\n",
            "..       ...   ...     ...       ...     ...\n",
            "144  Infosys  22.0  8787.0  Calcutta   India\n",
            "145  Infosys  44.0  4034.0     Delhi   India\n",
            "146      TCS  33.0  5034.0    Mumbai   India\n",
            "147  Infosys  22.0  8202.0    Cochin   India\n",
            "148      NaN   NaN     NaN       NaN     NaN\n",
            "\n",
            "[149 rows x 5 columns]\n"
          ]
        }
      ],
      "source": [
        "print(df[:])"
      ]
    },
    {
      "cell_type": "markdown",
      "metadata": {
        "id": "Fr71oouvrYIE"
      },
      "source": [
        "List the top 10 rows in datframe"
      ]
    },
    {
      "cell_type": "code",
      "execution_count": 4,
      "metadata": {
        "id": "V0PAOvCErYIE",
        "outputId": "a8e8fb8f-b0f2-462c-81c4-56403e44da90",
        "colab": {
          "base_uri": "https://localhost:8080/"
        }
      },
      "outputs": [
        {
          "output_type": "stream",
          "name": "stdout",
          "text": [
            "   Company   Age  Salary     Place Country\n",
            "0      TCS  20.0     NaN   Chennai   India\n",
            "1  Infosys  30.0     NaN    Mumbai   India\n",
            "2      TCS  35.0  2300.0  Calcutta   India\n",
            "3  Infosys  40.0  3000.0     Delhi   India\n",
            "4      TCS  23.0  4000.0    Mumbai   India\n",
            "5  Infosys   NaN  5000.0  Calcutta   India\n",
            "6      TCS   NaN  6000.0   Chennai   India\n",
            "7  Infosys  23.0  7000.0    Mumbai   India\n",
            "8      TCS  34.0  8000.0  Calcutta   India\n",
            "9      CTS  45.0  9000.0     Delhi   India\n"
          ]
        }
      ],
      "source": [
        "print(df.head(10))"
      ]
    },
    {
      "cell_type": "markdown",
      "metadata": {
        "id": "jRscPmUgrYIF"
      },
      "source": [
        "List the last 15 rows in datframe"
      ]
    },
    {
      "cell_type": "code",
      "execution_count": 5,
      "metadata": {
        "id": "riF_a4YVrYIF",
        "outputId": "0f1ee9ae-ae89-42ba-c288-66018659f889",
        "colab": {
          "base_uri": "https://localhost:8080/"
        }
      },
      "outputs": [
        {
          "output_type": "stream",
          "name": "stdout",
          "text": [
            "                       Company   Age  Salary      Place Country\n",
            "134  Tata Consultancy Services  31.0  8345.0     Mumbai   India\n",
            "135                        CTS  40.0  9284.0   Calcutta   India\n",
            "136                        NaN   NaN     NaN      Delhi   India\n",
            "137                        CTS  31.0  2034.0     Mumbai   India\n",
            "138                        CTS  44.0  3033.0     Cochin   India\n",
            "139                 Congnizant  22.0  2934.0      Noida   India\n",
            "140                    Infosys  44.0  4034.0  Hyderabad   India\n",
            "141                        TCS  33.0  5034.0   Calcutta   India\n",
            "142            Infosys Pvt Lmt  22.0  8202.0     Mumbai   India\n",
            "143                        TCS  33.0  9024.0   Calcutta   India\n",
            "144                    Infosys  22.0  8787.0   Calcutta   India\n",
            "145                    Infosys  44.0  4034.0      Delhi   India\n",
            "146                        TCS  33.0  5034.0     Mumbai   India\n",
            "147                    Infosys  22.0  8202.0     Cochin   India\n",
            "148                        NaN   NaN     NaN        NaN     NaN\n"
          ]
        }
      ],
      "source": [
        "print(df.tail(15))"
      ]
    },
    {
      "cell_type": "markdown",
      "metadata": {
        "id": "1bqYYXJBrYIF"
      },
      "source": [
        "Find the number of rows in dataframe"
      ]
    },
    {
      "cell_type": "code",
      "execution_count": 6,
      "metadata": {
        "id": "Iw8Gk3SZrYIF",
        "outputId": "7647f431-c152-446c-99f3-6ec9e840607b",
        "colab": {
          "base_uri": "https://localhost:8080/"
        }
      },
      "outputs": [
        {
          "output_type": "stream",
          "name": "stdout",
          "text": [
            "149\n"
          ]
        }
      ],
      "source": [
        "print(df.shape[0])"
      ]
    },
    {
      "cell_type": "markdown",
      "metadata": {
        "id": "uXUExo3IrYIG"
      },
      "source": [
        "Check the information of dataframe"
      ]
    },
    {
      "cell_type": "code",
      "execution_count": 7,
      "metadata": {
        "id": "IixJukpGrYIG",
        "outputId": "491227fd-b675-46da-a009-9a7bce00eadd",
        "colab": {
          "base_uri": "https://localhost:8080/"
        }
      },
      "outputs": [
        {
          "output_type": "stream",
          "name": "stdout",
          "text": [
            "<class 'pandas.core.frame.DataFrame'>\n",
            "RangeIndex: 149 entries, 0 to 148\n",
            "Data columns (total 5 columns):\n",
            " #   Column   Non-Null Count  Dtype  \n",
            "---  ------   --------------  -----  \n",
            " 0   Company  140 non-null    object \n",
            " 1   Age      130 non-null    float64\n",
            " 2   Salary   124 non-null    float64\n",
            " 3   Place    134 non-null    object \n",
            " 4   Country  148 non-null    object \n",
            "dtypes: float64(2), object(3)\n",
            "memory usage: 5.9+ KB\n",
            "None\n"
          ]
        }
      ],
      "source": [
        "print(df.info())"
      ]
    },
    {
      "cell_type": "markdown",
      "metadata": {
        "id": "ZPPu5lGPrYIG"
      },
      "source": [
        "Check the basic Statistics of Dataframe. Give your inference from the stats"
      ]
    },
    {
      "cell_type": "code",
      "execution_count": 8,
      "metadata": {
        "id": "eCx-zGTYrYIG",
        "outputId": "29092ced-1683-494f-ff38-c6fdd9a92643",
        "colab": {
          "base_uri": "https://localhost:8080/"
        }
      },
      "outputs": [
        {
          "output_type": "stream",
          "name": "stdout",
          "text": [
            "              Age       Salary\n",
            "count  130.000000   124.000000\n",
            "mean    30.484615  5312.467742\n",
            "std     11.096640  2573.764683\n",
            "min      0.000000  1089.000000\n",
            "25%     22.000000  3030.000000\n",
            "50%     32.500000  5000.000000\n",
            "75%     37.750000  8000.000000\n",
            "max     54.000000  9876.000000\n"
          ]
        }
      ],
      "source": [
        "print(df.describe())"
      ]
    },
    {
      "cell_type": "markdown",
      "metadata": {
        "id": "9QW49E5crYIG"
      },
      "source": [
        "Retrieve 20 to 100 rows and Company and age usig iloc"
      ]
    },
    {
      "cell_type": "code",
      "execution_count": 9,
      "metadata": {
        "id": "nZN4PtOXrYIG",
        "outputId": "46094f82-24fc-47c7-cb9c-4861e7e88799",
        "colab": {
          "base_uri": "https://localhost:8080/"
        }
      },
      "outputs": [
        {
          "output_type": "stream",
          "name": "stdout",
          "text": [
            "     Company   Age\n",
            "20       TCS  37.0\n",
            "21   Infosys  50.0\n",
            "22       TCS  21.0\n",
            "23   Infosys   NaN\n",
            "24       TCS   NaN\n",
            "..       ...   ...\n",
            "96       TCS   NaN\n",
            "97   Infosys  22.0\n",
            "98       TCS  33.0\n",
            "99       CTS  44.0\n",
            "100      CTS  22.0\n",
            "\n",
            "[81 rows x 2 columns]\n"
          ]
        }
      ],
      "source": [
        "print(df.iloc[20:101,0:2])"
      ]
    },
    {
      "cell_type": "markdown",
      "metadata": {
        "id": "2diOdV1IrYIG"
      },
      "source": [
        "Retrieve 20 to 100 rows and Company and age usig loc"
      ]
    },
    {
      "cell_type": "code",
      "execution_count": 10,
      "metadata": {
        "id": "UwFUBKUSrYIG",
        "outputId": "611d7d9c-104c-45d2-eb00-d382f819a40a",
        "colab": {
          "base_uri": "https://localhost:8080/"
        }
      },
      "outputs": [
        {
          "output_type": "stream",
          "name": "stdout",
          "text": [
            "     Company   Age\n",
            "20       TCS  37.0\n",
            "21   Infosys  50.0\n",
            "22       TCS  21.0\n",
            "23   Infosys   NaN\n",
            "24       TCS   NaN\n",
            "..       ...   ...\n",
            "96       TCS   NaN\n",
            "97   Infosys  22.0\n",
            "98       TCS  33.0\n",
            "99       CTS  44.0\n",
            "100      CTS  22.0\n",
            "\n",
            "[81 rows x 2 columns]\n"
          ]
        }
      ],
      "source": [
        "a = df.loc[20:100,['Company','Age']]\n",
        "print(a)"
      ]
    },
    {
      "cell_type": "markdown",
      "metadata": {
        "id": "FspIpCtmrYIH"
      },
      "source": [
        "Chage the data in 100 row and Place as 'Noida'"
      ]
    },
    {
      "cell_type": "code",
      "execution_count": null,
      "metadata": {
        "id": "xFIhZQ_HrYIH",
        "outputId": "5371e13e-69dc-420c-db09-b71038fbe4cf",
        "colab": {
          "base_uri": "https://localhost:8080/"
        }
      },
      "outputs": [
        {
          "output_type": "stream",
          "name": "stdout",
          "text": [
            "Noida\n"
          ]
        }
      ],
      "source": [
        "df.loc[100,\"Place\"]=\"Noida\"\n",
        "print(df.loc[100,\"Place\"])"
      ]
    },
    {
      "cell_type": "markdown",
      "metadata": {
        "id": "GoPphtuqrYIH"
      },
      "source": [
        "Change the column 'Place' to 'City'"
      ]
    },
    {
      "cell_type": "code",
      "execution_count": null,
      "metadata": {
        "id": "qf6rrVWkrYIH",
        "outputId": "f325902d-77ff-4bd6-db93-77899af93801",
        "colab": {
          "base_uri": "https://localhost:8080/"
        }
      },
      "outputs": [
        {
          "output_type": "stream",
          "name": "stdout",
          "text": [
            "     Company   Age  Salary      City Country\n",
            "0        TCS  20.0     NaN   Chennai   India\n",
            "1    Infosys  30.0     NaN    Mumbai   India\n",
            "2        TCS  35.0  2300.0  Calcutta   India\n",
            "3    Infosys  40.0  3000.0     Delhi   India\n",
            "4        TCS  23.0  4000.0    Mumbai   India\n",
            "..       ...   ...     ...       ...     ...\n",
            "144  Infosys  22.0  8787.0  Calcutta   India\n",
            "145  Infosys  44.0  4034.0     Delhi   India\n",
            "146      TCS  33.0  5034.0    Mumbai   India\n",
            "147  Infosys  22.0  8202.0    Cochin   India\n",
            "148      NaN   NaN     NaN       NaN     NaN\n",
            "\n",
            "[149 rows x 5 columns]\n"
          ]
        }
      ],
      "source": [
        "df.rename(columns={'Place':'City'},inplace=True)\n",
        "print(df)"
      ]
    },
    {
      "cell_type": "markdown",
      "metadata": {
        "id": "aebcymMirYIH"
      },
      "source": [
        "List down the unique data in each columns and find length of unique data"
      ]
    },
    {
      "cell_type": "code",
      "execution_count": null,
      "metadata": {
        "id": "8Wz0Le0drYIH",
        "outputId": "3d3fb03a-8ea0-4448-c02e-3de8488a2403",
        "colab": {
          "base_uri": "https://localhost:8080/"
        }
      },
      "outputs": [
        {
          "output_type": "stream",
          "name": "stdout",
          "text": [
            "Company : ['TCS' 'Infosys' 'CTS' nan 'Tata Consultancy Services' 'Congnizant'\n",
            " 'Infosys Pvt Lmt']\n",
            "7\n",
            "\n",
            "\n",
            "Age : [20. 30. 35. 40. 23. nan 34. 45. 18. 22. 32. 37. 50. 21. 46. 36. 26. 41.\n",
            " 24. 25. 43. 19. 38. 51. 31. 44. 33. 17.  0. 54.]\n",
            "30\n",
            "\n",
            "\n",
            "Salary : [  nan 2300. 3000. 4000. 5000. 6000. 7000. 8000. 9000. 1089. 1234. 3030.\n",
            " 3045. 3184. 4824. 5835. 7084. 8943. 8345. 9284. 9876. 2034. 7654. 2934.\n",
            " 4034. 5034. 8202. 9024. 4345. 6544. 6543. 3234. 4324. 5435. 5555. 8787.\n",
            " 3454. 5654. 5009. 5098. 3033.]\n",
            "41\n",
            "\n",
            "\n",
            "City : ['Chennai' 'Mumbai' 'Calcutta' 'Delhi' 'Podicherry' 'Cochin' nan 'Noida'\n",
            " 'Hyderabad' 'Bhopal' 'Nagpur' 'Pune']\n",
            "12\n",
            "\n",
            "\n",
            "Country : ['India' nan]\n",
            "2\n",
            "\n",
            "\n"
          ]
        }
      ],
      "source": [
        "k = df.columns.unique()\n",
        "for i in k:\n",
        "  a = df[i].unique()\n",
        "  print(i,\":\",a)\n",
        "  print(len(a))\n",
        "  print(\"\\n\")\n",
        "\n"
      ]
    },
    {
      "cell_type": "markdown",
      "metadata": {
        "id": "FgBK9_BRrYIH"
      },
      "source": [
        "Rename all the possible labels of column in Company as three labels\n",
        "TCS\n",
        "CTS\n",
        "Infosys"
      ]
    },
    {
      "cell_type": "code",
      "execution_count": null,
      "metadata": {
        "id": "FftzkRdprYIH",
        "outputId": "0c369178-a0c2-41cd-a757-e204d6e0d815",
        "colab": {
          "base_uri": "https://localhost:8080/"
        }
      },
      "outputs": [
        {
          "output_type": "stream",
          "name": "stdout",
          "text": [
            "TCS\n",
            "Infosys\n",
            "TCS\n",
            "Infosys\n",
            "TCS\n",
            "Infosys\n",
            "TCS\n",
            "Infosys\n",
            "TCS\n",
            "CTS\n",
            "CTS\n",
            "CTS\n",
            "CTS\n",
            "CTS\n",
            "Infosys\n",
            "TCS\n",
            "Infosys\n",
            "TCS\n",
            "TCS\n",
            "Infosys\n",
            "TCS\n",
            "Infosys\n",
            "TCS\n",
            "Infosys\n",
            "TCS\n",
            "Infosys\n",
            "TCS\n",
            "CTS\n",
            "CTS\n",
            "CTS\n",
            "CTS\n",
            "CTS\n",
            "Infosys\n",
            "TCS\n",
            "Infosys\n",
            "TCS\n",
            "TCS\n",
            "nan\n",
            "TCS\n",
            "Infosys\n",
            "TCS\n",
            "Infosys\n",
            "TCS\n",
            "Infosys\n",
            "TCS\n",
            "CTS\n",
            "CTS\n",
            "CTS\n",
            "CTS\n",
            "CTS\n",
            "Infosys\n",
            "nan\n",
            "Infosys\n",
            "TCS\n",
            "TCS\n",
            "Infosys\n",
            "TCS\n",
            "Infosys\n",
            "TCS\n",
            "Infosys\n",
            "TCS\n",
            "nan\n",
            "TCS\n",
            "CTS\n",
            "nan\n",
            "CTS\n",
            "CTS\n",
            "CTS\n",
            "Infosys\n",
            "TCS\n",
            "Infosys\n",
            "TCS\n",
            "TCS\n",
            "Infosys\n",
            "TCS\n",
            "Infosys\n",
            "TCS\n",
            "Infosys\n",
            "TCS\n",
            "Infosys\n",
            "TCS\n",
            "CTS\n",
            "CTS\n",
            "CTS\n",
            "CTS\n",
            "CTS\n",
            "Infosys\n",
            "TCS\n",
            "Infosys\n",
            "TCS\n",
            "TCS\n",
            "Infosys\n",
            "TCS\n",
            "Infosys\n",
            "TCS\n",
            "Infosys\n",
            "TCS\n",
            "Infosys\n",
            "TCS\n",
            "CTS\n",
            "CTS\n",
            "CTS\n",
            "CTS\n",
            "CTS\n",
            "Infosys\n",
            "TCS\n",
            "Infosys\n",
            "TCS\n",
            "TCS\n",
            "nan\n",
            "TCS\n",
            "Infosys\n",
            "TCS\n",
            "Infosys\n",
            "TCS\n",
            "Infosys\n",
            "TCS\n",
            "CTS\n",
            "CTS\n",
            "CTS\n",
            "CTS\n",
            "CTS\n",
            "Infosys\n",
            "nan\n",
            "Infosys\n",
            "TCS\n",
            "TCS\n",
            "Infosys\n",
            "TCS\n",
            "Infosys\n",
            "TCS\n",
            "Infosys\n",
            "TCS\n",
            "nan\n",
            "TCS\n",
            "CTS\n",
            "nan\n",
            "CTS\n",
            "CTS\n",
            "CTS\n",
            "Infosys\n",
            "TCS\n",
            "Infosys\n",
            "TCS\n",
            "Infosys\n",
            "Infosys\n",
            "TCS\n",
            "Infosys\n",
            "nan\n"
          ]
        }
      ],
      "source": [
        "#df.rename(columns = {'Tata Consultancy Services':'TCS'},{'Infosys Pvt Lmt':'Infosys'}{'Congnizant':'CTS'}, inplace = True)\n",
        "df['Company'] = df['Company'].replace(['Tata Consultancy Services','Infosys Pvt Lmt','Congnizant'],['TCS','Infosys','CTS'])\n",
        "for col in df.Company:\n",
        "    print(col)\n"
      ]
    },
    {
      "cell_type": "code",
      "execution_count": null,
      "metadata": {
        "id": "iwAJZvqWrYIH",
        "outputId": "b4ff90c8-1d74-4661-ffaa-f48de6929b5f",
        "colab": {
          "base_uri": "https://localhost:8080/"
        }
      },
      "outputs": [
        {
          "output_type": "stream",
          "name": "stdout",
          "text": [
            "20.0\n",
            "30.0\n",
            "35.0\n",
            "40.0\n",
            "23.0\n",
            "nan\n",
            "nan\n",
            "23.0\n",
            "34.0\n",
            "45.0\n",
            "23.0\n",
            "34.0\n",
            "45.0\n",
            "18.0\n",
            "40.0\n",
            "23.0\n",
            "23.0\n",
            "34.0\n",
            "22.0\n",
            "32.0\n",
            "37.0\n",
            "50.0\n",
            "21.0\n",
            "nan\n",
            "nan\n",
            "23.0\n",
            "34.0\n",
            "45.0\n",
            "23.0\n",
            "35.0\n",
            "46.0\n",
            "20.0\n",
            "45.0\n",
            "36.0\n",
            "26.0\n",
            "35.0\n",
            "32.0\n",
            "35.0\n",
            "34.0\n",
            "41.0\n",
            "24.0\n",
            "nan\n",
            "nan\n",
            "25.0\n",
            "35.0\n",
            "46.0\n",
            "24.0\n",
            "32.0\n",
            "43.0\n",
            "19.0\n",
            "41.0\n",
            "24.0\n",
            "21.0\n",
            "35.0\n",
            "21.0\n",
            "32.0\n",
            "38.0\n",
            "51.0\n",
            "23.0\n",
            "nan\n",
            "nan\n",
            "25.0\n",
            "36.0\n",
            "41.0\n",
            "25.0\n",
            "31.0\n",
            "41.0\n",
            "21.0\n",
            "43.0\n",
            "32.0\n",
            "21.0\n",
            "34.0\n",
            "24.0\n",
            "34.0\n",
            "37.0\n",
            "44.0\n",
            "32.0\n",
            "nan\n",
            "nan\n",
            "26.0\n",
            "32.0\n",
            "43.0\n",
            "22.0\n",
            "33.0\n",
            "43.0\n",
            "17.0\n",
            "41.0\n",
            "21.0\n",
            "nan\n",
            "36.0\n",
            "21.0\n",
            "34.0\n",
            "nan\n",
            "54.0\n",
            "22.0\n",
            "nan\n",
            "nan\n",
            "22.0\n",
            "33.0\n",
            "44.0\n",
            "22.0\n",
            "nan\n",
            "44.0\n",
            "22.0\n",
            "44.0\n",
            "33.0\n",
            "22.0\n",
            "nan\n",
            "33.0\n",
            "33.0\n",
            "33.0\n",
            "nan\n",
            "22.0\n",
            "nan\n",
            "nan\n",
            "22.0\n",
            "33.0\n",
            "44.0\n",
            "22.0\n",
            "33.0\n",
            "44.0\n",
            "nan\n",
            "44.0\n",
            "nan\n",
            "22.0\n",
            "33.0\n",
            "20.0\n",
            "30.0\n",
            "33.0\n",
            "50.0\n",
            "21.0\n",
            "nan\n",
            "nan\n",
            "22.0\n",
            "31.0\n",
            "40.0\n",
            "nan\n",
            "31.0\n",
            "44.0\n",
            "22.0\n",
            "44.0\n",
            "33.0\n",
            "22.0\n",
            "33.0\n",
            "22.0\n",
            "44.0\n",
            "33.0\n",
            "22.0\n",
            "nan\n"
          ]
        }
      ],
      "source": [
        "#Where ever you see age as 0 replace with NA\n",
        "import numpy as np\n",
        "df.loc[df.Age == 0,'Age'] =np.nan\n",
        "for col in df.Age:\n",
        "  print(col)\n",
        "##Hint df[df.Age==20] = np.isnan"
      ]
    },
    {
      "cell_type": "markdown",
      "metadata": {
        "id": "uV84LYhJrYIH"
      },
      "source": [
        "Check how many duplicated data is there?"
      ]
    },
    {
      "cell_type": "code",
      "execution_count": null,
      "metadata": {
        "id": "iNq5W_kGrYIH",
        "outputId": "5c00b0f7-73b5-406c-cd52-66e3d3593238",
        "colab": {
          "base_uri": "https://localhost:8080/"
        }
      },
      "outputs": [
        {
          "output_type": "stream",
          "name": "stdout",
          "text": [
            "(array([ 84, 124, 130, 131, 144, 145, 146, 147]),)\n"
          ]
        }
      ],
      "source": [
        "a =df.duplicated()\n",
        "b = np.where(a == True)\n",
        "print(b)\n"
      ]
    },
    {
      "cell_type": "markdown",
      "metadata": {
        "id": "YGj7Xs_XrYII"
      },
      "source": [
        "Remove all duplicated rowise data"
      ]
    },
    {
      "cell_type": "code",
      "execution_count": null,
      "metadata": {
        "id": "KBguGsRtrYII",
        "outputId": "6bcd7e5b-44fc-4116-a7ab-1b1e109abc29",
        "colab": {
          "base_uri": "https://localhost:8080/"
        }
      },
      "outputs": [
        {
          "output_type": "stream",
          "name": "stdout",
          "text": [
            "     Company   Age  Salary       City Country\n",
            "0        TCS  20.0     NaN    Chennai   India\n",
            "1    Infosys  30.0     NaN     Mumbai   India\n",
            "2        TCS  35.0  2300.0   Calcutta   India\n",
            "3    Infosys  40.0  3000.0      Delhi   India\n",
            "4        TCS  23.0  4000.0     Mumbai   India\n",
            "..       ...   ...     ...        ...     ...\n",
            "140  Infosys  44.0  4034.0  Hyderabad   India\n",
            "141      TCS  33.0  5034.0   Calcutta   India\n",
            "142  Infosys  22.0  8202.0     Mumbai   India\n",
            "143      TCS  33.0  9024.0   Calcutta   India\n",
            "148      NaN   NaN     NaN        NaN     NaN\n",
            "\n",
            "[141 rows x 5 columns]\n"
          ]
        }
      ],
      "source": [
        "print(df.drop_duplicates())"
      ]
    },
    {
      "cell_type": "markdown",
      "metadata": {
        "id": "7QeTByMYrYII"
      },
      "source": [
        "Remove the column 'Country'"
      ]
    },
    {
      "cell_type": "code",
      "execution_count": null,
      "metadata": {
        "id": "Hwg5cE-PrYII",
        "outputId": "654aa224-939e-4a3c-a1ea-04718dde2125",
        "colab": {
          "base_uri": "https://localhost:8080/"
        }
      },
      "outputs": [
        {
          "output_type": "stream",
          "name": "stdout",
          "text": [
            "0      India\n",
            "1      India\n",
            "2      India\n",
            "3      India\n",
            "4      India\n",
            "       ...  \n",
            "144    India\n",
            "145    India\n",
            "146    India\n",
            "147    India\n",
            "148      NaN\n",
            "Name: Country, Length: 149, dtype: object\n"
          ]
        }
      ],
      "source": [
        "print(df.pop('Country'))"
      ]
    },
    {
      "cell_type": "markdown",
      "metadata": {
        "id": "uQTSExmUrYII"
      },
      "source": [
        "Remove the row number 137"
      ]
    },
    {
      "cell_type": "code",
      "execution_count": null,
      "metadata": {
        "id": "DR5rMPrWrYII",
        "outputId": "4a6634d7-2351-45c5-b582-d580a21fde1e",
        "colab": {
          "base_uri": "https://localhost:8080/"
        }
      },
      "outputs": [
        {
          "output_type": "stream",
          "name": "stdout",
          "text": [
            "Company       CTS\n",
            "Age          31.0\n",
            "Salary     2034.0\n",
            "City       Mumbai\n",
            "Name: 137, dtype: object \n",
            "\n",
            "Company       CTS\n",
            "Age          44.0\n",
            "Salary     3033.0\n",
            "City       Cochin\n",
            "Name: 138, dtype: object\n"
          ]
        }
      ],
      "source": [
        "print(df.iloc[137],'\\n')\n",
        "df=df.drop(137)\n",
        "print(df.iloc[137])"
      ]
    },
    {
      "cell_type": "markdown",
      "metadata": {
        "id": "BnGFONsUrYII"
      },
      "source": [
        "Find number of each labels in Company"
      ]
    },
    {
      "cell_type": "code",
      "execution_count": null,
      "metadata": {
        "id": "6txc7W3KrYII",
        "outputId": "bb6ea8b1-a466-467a-fdcd-026a2944b2cb",
        "colab": {
          "base_uri": "https://localhost:8080/"
        }
      },
      "outputs": [
        {
          "output_type": "stream",
          "name": "stdout",
          "text": [
            "['TCS' 'Infosys' 'CTS' nan] \n",
            "\n",
            "TCS: (array([  0,   2,   4,   6,   8,  15,  17,  18,  20,  22,  24,  26,  33,\n",
            "        35,  36,  38,  40,  42,  44,  53,  54,  56,  58,  60,  62,  69,\n",
            "        71,  72,  74,  76,  78,  80,  87,  89,  90,  92,  94,  96,  98,\n",
            "       105, 107, 108, 110, 112, 114, 116, 125, 126, 128, 130, 132, 134,\n",
            "       140, 142, 145]),) \n",
            "\n",
            "Infosys: (array([  1,   3,   5,   7,  14,  16,  19,  21,  23,  25,  32,  34,  39,\n",
            "        41,  43,  50,  52,  55,  57,  59,  68,  70,  73,  75,  77,  79,\n",
            "        86,  88,  91,  93,  95,  97, 104, 106, 111, 113, 115, 122, 124,\n",
            "       127, 129, 131, 139, 141, 143, 144, 146]),) \n",
            "\n",
            "CTS: (array([  9,  10,  11,  12,  13,  27,  28,  29,  30,  31,  45,  46,  47,\n",
            "        48,  49,  63,  65,  66,  67,  81,  82,  83,  84,  85,  99, 100,\n",
            "       101, 102, 103, 117, 118, 119, 120, 121, 135, 137, 138]),)\n"
          ]
        }
      ],
      "source": [
        "k = df.Company.unique()\n",
        "print(k,\"\\n\")\n",
        "x = np.where(df['Company'] == 'TCS')\n",
        "print(\"TCS:\",x,'\\n')\n",
        "\n",
        "y = np.where(df['Company'] == 'Infosys')\n",
        "print(\"Infosys:\",y,'\\n')\n",
        "\n",
        "z = np.where(df['Company'] == 'CTS')\n",
        "print(\"CTS:\",z)"
      ]
    },
    {
      "cell_type": "markdown",
      "metadata": {
        "id": "3r15aKrwrYII"
      },
      "source": [
        "Find number of each labels in City"
      ]
    },
    {
      "cell_type": "code",
      "execution_count": null,
      "metadata": {
        "id": "wONYHr0ZrYII",
        "outputId": "b16c50f6-63c2-49c9-84bc-0a1ba7a2c97e",
        "colab": {
          "base_uri": "https://localhost:8080/"
        }
      },
      "outputs": [
        {
          "output_type": "stream",
          "name": "stdout",
          "text": [
            "Chennai\n",
            "(array([  0,   6,  12,  18,  24,  30,  50,  70,  83,  89,  95, 107, 113,\n",
            "       133]),)\n",
            "\n",
            "\n",
            "Mumbai\n",
            "(array([  1,   4,   7,  10,  13,  19,  22,  25,  28,  31,  39,  47,  48,\n",
            "        51,  54,  59,  67,  68,  71,  74,  84,  87,  90,  93,  96, 102,\n",
            "       105, 108, 111, 114, 122, 130, 131, 134, 141, 145]),)\n",
            "\n",
            "\n",
            "Calcutta\n",
            "(array([  2,   5,   8,  11,  14,  20,  26,  32,  38,  40,  46,  52,  58,\n",
            "        60,  66,  72,  78,  85,  88,  91,  94,  97, 103, 109, 115, 121,\n",
            "       123, 124, 129, 135, 140, 142, 143]),)\n",
            "\n",
            "\n",
            "Delhi\n",
            "(array([  3,   9,  15,  21,  27,  53,  73,  86,  92,  98, 104, 110, 136,\n",
            "       144]),)\n",
            "\n",
            "\n",
            "Podicherry\n",
            "(array([ 16,  99, 101]),)\n",
            "\n",
            "\n",
            "Cochin\n",
            "(array([ 17,  23,  29,  49,  55,  69,  75, 106, 112, 132, 137, 146]),)\n",
            "\n",
            "\n",
            "Noida\n",
            "(array([ 36,  44,  56,  64,  76, 100, 119, 127, 138]),)\n",
            "\n",
            "\n",
            "Hyderabad\n",
            "(array([ 37,  45,  57,  65,  77, 120, 128, 139]),)\n",
            "\n",
            "\n",
            "Bhopal\n",
            "(array([79]),)\n",
            "\n",
            "\n",
            "Nagpur\n",
            "(array([80]),)\n",
            "\n",
            "\n",
            "Pune\n",
            "(array([81, 82]),)\n",
            "\n",
            "\n"
          ]
        }
      ],
      "source": [
        "k = df.City.unique()\n",
        "\n",
        "for i in k:\n",
        "  if(  pd.notnull(i) == True):\n",
        "    print(i)\n",
        "    x = np.where(df[\"City\"] == i)\n",
        "    print(x)\n",
        "    print(\"\\n\")\n"
      ]
    },
    {
      "cell_type": "markdown",
      "metadata": {
        "id": "wRCDDs7KrYII"
      },
      "source": [
        "Find Number of Null Values in each column"
      ]
    },
    {
      "cell_type": "code",
      "execution_count": null,
      "metadata": {
        "id": "pe14VNvFrYII",
        "outputId": "96d3eb1b-8729-4157-ad21-bcdd99b001cc",
        "colab": {
          "base_uri": "https://localhost:8080/"
        }
      },
      "outputs": [
        {
          "output_type": "stream",
          "name": "stdout",
          "text": [
            "Index(['Company', 'Age', 'Salary', 'City'], dtype='object') \n",
            "\n",
            "Company\n",
            "(array([ 37,  51,  61,  64, 109, 123, 133, 136, 147]),)\n",
            "\n",
            "\n",
            "Age\n",
            "(array([  5,   6,  23,  24,  41,  42,  59,  60,  77,  78,  88,  92,  95,\n",
            "        96, 101, 107, 111, 113, 114, 121, 123, 131, 132, 136, 147]),)\n",
            "\n",
            "\n",
            "Salary\n",
            "(array([  0,   1,  10,  12,  18,  19,  36,  37,  46,  48,  66,  72,  73,\n",
            "        82,  84,  90,  91, 100, 102, 108, 109, 118, 120, 136, 147]),)\n",
            "\n",
            "\n",
            "City\n",
            "(array([ 33,  34,  35,  41,  42,  43,  61,  62,  63, 116, 117, 118, 125,\n",
            "       126, 147]),)\n",
            "\n",
            "\n"
          ]
        }
      ],
      "source": [
        "k = df.columns\n",
        "print(k,'\\n')\n",
        "\n",
        "for i in k:\n",
        "  print(i)\n",
        "  x = pd.isnull(df[i])\n",
        "  b = np.where(x == True)\n",
        "  print(b)\n",
        "  print('\\n')\n",
        "    \n",
        "    "
      ]
    },
    {
      "cell_type": "markdown",
      "metadata": {
        "id": "xIfCvJrIrYII"
      },
      "source": [
        "Remove all Null values in Salary"
      ]
    },
    {
      "cell_type": "code",
      "execution_count": null,
      "metadata": {
        "id": "3BafanGurYII",
        "outputId": "512d2ed7-c0ec-42d3-f288-44a50124256e",
        "colab": {
          "base_uri": "https://localhost:8080/"
        }
      },
      "outputs": [
        {
          "output_type": "stream",
          "name": "stdout",
          "text": [
            "2300.0\n",
            "3000.0\n",
            "4000.0\n",
            "5000.0\n",
            "6000.0\n",
            "7000.0\n",
            "8000.0\n",
            "9000.0\n",
            "1089.0\n",
            "1234.0\n",
            "3000.0\n",
            "3000.0\n",
            "3030.0\n",
            "5000.0\n",
            "3045.0\n",
            "3184.0\n",
            "4824.0\n",
            "5835.0\n",
            "7084.0\n",
            "8943.0\n",
            "8345.0\n",
            "9284.0\n",
            "9876.0\n",
            "2034.0\n",
            "7654.0\n",
            "2934.0\n",
            "4034.0\n",
            "5034.0\n",
            "8202.0\n",
            "9024.0\n",
            "2300.0\n",
            "3000.0\n",
            "4345.0\n",
            "5000.0\n",
            "6000.0\n",
            "7000.0\n",
            "8000.0\n",
            "9000.0\n",
            "1089.0\n",
            "1234.0\n",
            "3000.0\n",
            "3000.0\n",
            "3030.0\n",
            "5000.0\n",
            "6544.0\n",
            "7654.0\n",
            "3045.0\n",
            "3184.0\n",
            "4824.0\n",
            "5835.0\n",
            "7084.0\n",
            "8943.0\n",
            "8345.0\n",
            "9284.0\n",
            "6543.0\n",
            "2034.0\n",
            "2934.0\n",
            "4034.0\n",
            "5034.0\n",
            "8202.0\n",
            "9024.0\n",
            "2300.0\n",
            "3000.0\n",
            "4000.0\n",
            "5000.0\n",
            "6000.0\n",
            "7000.0\n",
            "8000.0\n",
            "9000.0\n",
            "1089.0\n",
            "1234.0\n",
            "3000.0\n",
            "3000.0\n",
            "3030.0\n",
            "5000.0\n",
            "3045.0\n",
            "3184.0\n",
            "4824.0\n",
            "5835.0\n",
            "7084.0\n",
            "8943.0\n",
            "8345.0\n",
            "9284.0\n",
            "2034.0\n",
            "2934.0\n",
            "4034.0\n",
            "5034.0\n",
            "8202.0\n",
            "9024.0\n",
            "2300.0\n",
            "3234.0\n",
            "4324.0\n",
            "5435.0\n",
            "5555.0\n",
            "8787.0\n",
            "8787.0\n",
            "9876.0\n",
            "1089.0\n",
            "1234.0\n",
            "3234.0\n",
            "3454.0\n",
            "8787.0\n",
            "5654.0\n",
            "5009.0\n",
            "5098.0\n",
            "3045.0\n",
            "3184.0\n",
            "4824.0\n",
            "5835.0\n",
            "7084.0\n",
            "8943.0\n",
            "8345.0\n",
            "9284.0\n",
            "3033.0\n",
            "2934.0\n",
            "4034.0\n",
            "5034.0\n",
            "8202.0\n",
            "9024.0\n",
            "8787.0\n",
            "4034.0\n",
            "5034.0\n",
            "8202.0\n"
          ]
        }
      ],
      "source": [
        "df = df.dropna(subset=['Salary'])\n",
        "for col in df.Salary:\n",
        "    print(col)"
      ]
    },
    {
      "cell_type": "markdown",
      "metadata": {
        "id": "6mATmzhmrYII"
      },
      "source": [
        "Replace the Null values in Comapany with mode"
      ]
    },
    {
      "cell_type": "code",
      "execution_count": null,
      "metadata": {
        "id": "AZ9430TyrYII",
        "outputId": "a738e54f-f969-4689-d6f1-7333d87d35cf",
        "colab": {
          "base_uri": "https://localhost:8080/"
        }
      },
      "outputs": [
        {
          "output_type": "stream",
          "name": "stdout",
          "text": [
            "0    TCS\n",
            "dtype: object\n",
            "TCS\n",
            "Infosys\n",
            "TCS\n",
            "Infosys\n",
            "TCS\n",
            "Infosys\n",
            "TCS\n",
            "Infosys\n",
            "TCS\n",
            "CTS\n",
            "CTS\n",
            "CTS\n",
            "CTS\n",
            "CTS\n",
            "Infosys\n",
            "TCS\n",
            "Infosys\n",
            "TCS\n",
            "TCS\n",
            "Infosys\n",
            "TCS\n",
            "Infosys\n",
            "TCS\n",
            "Infosys\n",
            "TCS\n",
            "Infosys\n",
            "TCS\n",
            "CTS\n",
            "CTS\n",
            "CTS\n",
            "CTS\n",
            "CTS\n",
            "Infosys\n",
            "TCS\n",
            "Infosys\n",
            "TCS\n",
            "TCS\n",
            "TCS\n",
            "TCS\n",
            "Infosys\n",
            "TCS\n",
            "Infosys\n",
            "TCS\n",
            "Infosys\n",
            "TCS\n",
            "CTS\n",
            "CTS\n",
            "CTS\n",
            "CTS\n",
            "CTS\n",
            "Infosys\n",
            "TCS\n",
            "Infosys\n",
            "TCS\n",
            "TCS\n",
            "Infosys\n",
            "TCS\n",
            "Infosys\n",
            "TCS\n",
            "Infosys\n",
            "TCS\n",
            "TCS\n",
            "TCS\n",
            "CTS\n",
            "TCS\n",
            "CTS\n",
            "CTS\n",
            "CTS\n",
            "Infosys\n",
            "TCS\n",
            "Infosys\n",
            "TCS\n",
            "TCS\n",
            "Infosys\n",
            "TCS\n",
            "Infosys\n",
            "TCS\n",
            "Infosys\n",
            "TCS\n",
            "Infosys\n",
            "TCS\n",
            "CTS\n",
            "CTS\n",
            "CTS\n",
            "CTS\n",
            "CTS\n",
            "Infosys\n",
            "TCS\n",
            "Infosys\n",
            "TCS\n",
            "TCS\n",
            "Infosys\n",
            "TCS\n",
            "Infosys\n",
            "TCS\n",
            "Infosys\n",
            "TCS\n",
            "Infosys\n",
            "TCS\n",
            "CTS\n",
            "CTS\n",
            "CTS\n",
            "CTS\n",
            "CTS\n",
            "Infosys\n",
            "TCS\n",
            "Infosys\n",
            "TCS\n",
            "TCS\n",
            "TCS\n",
            "TCS\n",
            "Infosys\n",
            "TCS\n",
            "Infosys\n",
            "TCS\n",
            "Infosys\n",
            "TCS\n",
            "CTS\n",
            "CTS\n",
            "CTS\n",
            "CTS\n",
            "CTS\n",
            "Infosys\n",
            "TCS\n",
            "Infosys\n",
            "TCS\n",
            "TCS\n",
            "Infosys\n",
            "TCS\n",
            "Infosys\n",
            "TCS\n",
            "Infosys\n",
            "TCS\n",
            "TCS\n",
            "TCS\n",
            "CTS\n",
            "TCS\n",
            "CTS\n",
            "CTS\n",
            "Infosys\n",
            "TCS\n",
            "Infosys\n",
            "TCS\n",
            "Infosys\n",
            "Infosys\n",
            "TCS\n",
            "Infosys\n",
            "TCS\n"
          ]
        }
      ],
      "source": [
        "y = df['Company'].mode()\n",
        "print(y)\n",
        "df[\"Company\"]=df[\"Company\"].fillna(value=y)\n",
        "for x in df.Company:\n",
        "    print(x)"
      ]
    },
    {
      "cell_type": "markdown",
      "metadata": {
        "id": "LDwnFlxHrYII"
      },
      "source": [
        "Replace the null value in Salary with median"
      ]
    },
    {
      "cell_type": "code",
      "execution_count": null,
      "metadata": {
        "id": "XOZNFJVrrYII",
        "outputId": "c984afd6-e9ad-47b2-c4a6-195d83471cf0",
        "colab": {
          "base_uri": "https://localhost:8080/"
        }
      },
      "outputs": [
        {
          "output_type": "stream",
          "name": "stdout",
          "text": [
            "2300.0\n",
            "3000.0\n",
            "4000.0\n",
            "5000.0\n",
            "6000.0\n",
            "7000.0\n",
            "8000.0\n",
            "9000.0\n",
            "1089.0\n",
            "1234.0\n",
            "3000.0\n",
            "3000.0\n",
            "3030.0\n",
            "5000.0\n",
            "3045.0\n",
            "3184.0\n",
            "4824.0\n",
            "5835.0\n",
            "7084.0\n",
            "8943.0\n",
            "8345.0\n",
            "9284.0\n",
            "9876.0\n",
            "2034.0\n",
            "7654.0\n",
            "2934.0\n",
            "4034.0\n",
            "5034.0\n",
            "8202.0\n",
            "9024.0\n",
            "2300.0\n",
            "3000.0\n",
            "4345.0\n",
            "5000.0\n",
            "6000.0\n",
            "7000.0\n",
            "8000.0\n",
            "9000.0\n",
            "1089.0\n",
            "1234.0\n",
            "3000.0\n",
            "3000.0\n",
            "3030.0\n",
            "5000.0\n",
            "6544.0\n",
            "7654.0\n",
            "3045.0\n",
            "3184.0\n",
            "4824.0\n",
            "5835.0\n",
            "7084.0\n",
            "8943.0\n",
            "8345.0\n",
            "9284.0\n",
            "6543.0\n",
            "2034.0\n",
            "2934.0\n",
            "4034.0\n",
            "5034.0\n",
            "8202.0\n",
            "9024.0\n",
            "2300.0\n",
            "3000.0\n",
            "4000.0\n",
            "5000.0\n",
            "6000.0\n",
            "7000.0\n",
            "8000.0\n",
            "9000.0\n",
            "1089.0\n",
            "1234.0\n",
            "3000.0\n",
            "3000.0\n",
            "3030.0\n",
            "5000.0\n",
            "3045.0\n",
            "3184.0\n",
            "4824.0\n",
            "5835.0\n",
            "7084.0\n",
            "8943.0\n",
            "8345.0\n",
            "9284.0\n",
            "2034.0\n",
            "2934.0\n",
            "4034.0\n",
            "5034.0\n",
            "8202.0\n",
            "9024.0\n",
            "2300.0\n",
            "3234.0\n",
            "4324.0\n",
            "5435.0\n",
            "5555.0\n",
            "8787.0\n",
            "8787.0\n",
            "9876.0\n",
            "1089.0\n",
            "1234.0\n",
            "3234.0\n",
            "3454.0\n",
            "8787.0\n",
            "5654.0\n",
            "5009.0\n",
            "5098.0\n",
            "3045.0\n",
            "3184.0\n",
            "4824.0\n",
            "5835.0\n",
            "7084.0\n",
            "8943.0\n",
            "8345.0\n",
            "9284.0\n",
            "3033.0\n",
            "2934.0\n",
            "4034.0\n",
            "5034.0\n",
            "8202.0\n",
            "9024.0\n",
            "8787.0\n",
            "4034.0\n",
            "5034.0\n",
            "8202.0\n"
          ]
        }
      ],
      "source": [
        "x = df['Salary'].median()\n",
        "df['Salary'] = df['Salary'].fillna(x)\n",
        "for col in df.Salary:\n",
        "    print(col)"
      ]
    },
    {
      "cell_type": "markdown",
      "metadata": {
        "id": "azpfiwserYII"
      },
      "source": [
        "Replace the null value in age with mean"
      ]
    },
    {
      "cell_type": "code",
      "execution_count": null,
      "metadata": {
        "id": "tdD7uBoErYII",
        "outputId": "ae29019c-d8d4-4993-9454-17479b6ce5d9",
        "colab": {
          "base_uri": "https://localhost:8080/"
        }
      },
      "outputs": [
        {
          "output_type": "stream",
          "name": "stdout",
          "text": [
            "35.0\n",
            "40.0\n",
            "23.0\n",
            "30.27358490566038\n",
            "30.27358490566038\n",
            "23.0\n",
            "34.0\n",
            "45.0\n",
            "34.0\n",
            "18.0\n",
            "40.0\n",
            "23.0\n",
            "23.0\n",
            "34.0\n",
            "37.0\n",
            "50.0\n",
            "21.0\n",
            "30.27358490566038\n",
            "30.27358490566038\n",
            "23.0\n",
            "34.0\n",
            "45.0\n",
            "23.0\n",
            "35.0\n",
            "46.0\n",
            "20.0\n",
            "45.0\n",
            "36.0\n",
            "26.0\n",
            "35.0\n",
            "34.0\n",
            "41.0\n",
            "24.0\n",
            "30.27358490566038\n",
            "30.27358490566038\n",
            "25.0\n",
            "35.0\n",
            "46.0\n",
            "32.0\n",
            "19.0\n",
            "41.0\n",
            "24.0\n",
            "21.0\n",
            "35.0\n",
            "21.0\n",
            "32.0\n",
            "38.0\n",
            "51.0\n",
            "23.0\n",
            "30.27358490566038\n",
            "30.27358490566038\n",
            "25.0\n",
            "36.0\n",
            "41.0\n",
            "25.0\n",
            "31.0\n",
            "21.0\n",
            "43.0\n",
            "32.0\n",
            "21.0\n",
            "34.0\n",
            "37.0\n",
            "44.0\n",
            "32.0\n",
            "30.27358490566038\n",
            "30.27358490566038\n",
            "26.0\n",
            "32.0\n",
            "43.0\n",
            "33.0\n",
            "17.0\n",
            "41.0\n",
            "21.0\n",
            "0.0\n",
            "36.0\n",
            "0.0\n",
            "54.0\n",
            "22.0\n",
            "30.27358490566038\n",
            "30.27358490566038\n",
            "22.0\n",
            "33.0\n",
            "44.0\n",
            "0.0\n",
            "22.0\n",
            "44.0\n",
            "33.0\n",
            "22.0\n",
            "0.0\n",
            "33.0\n",
            "0.0\n",
            "22.0\n",
            "30.27358490566038\n",
            "30.27358490566038\n",
            "22.0\n",
            "33.0\n",
            "44.0\n",
            "33.0\n",
            "0.0\n",
            "44.0\n",
            "30.27358490566038\n",
            "22.0\n",
            "33.0\n",
            "20.0\n",
            "30.0\n",
            "33.0\n",
            "50.0\n",
            "21.0\n",
            "30.27358490566038\n",
            "30.27358490566038\n",
            "22.0\n",
            "31.0\n",
            "40.0\n",
            "44.0\n",
            "22.0\n",
            "44.0\n",
            "33.0\n",
            "22.0\n",
            "33.0\n",
            "22.0\n",
            "44.0\n",
            "33.0\n",
            "22.0\n"
          ]
        }
      ],
      "source": [
        "x = df['Age'].mean()\n",
        "df['Age'] = df['Age'].fillna(x)\n",
        "for col in df.Age:\n",
        "    print(col)"
      ]
    },
    {
      "cell_type": "markdown",
      "metadata": {
        "id": "RtFhZkUArYIJ"
      },
      "source": [
        "Filter the data with age>40 and Salary<5000"
      ]
    },
    {
      "cell_type": "code",
      "execution_count": null,
      "metadata": {
        "id": "9W0aKbbYrYIJ",
        "colab": {
          "base_uri": "https://localhost:8080/"
        },
        "outputId": "2fab4ba3-de16-40a9-b979-a77bc924ce82"
      },
      "outputs": [
        {
          "output_type": "stream",
          "name": "stdout",
          "text": [
            "     Company   Age  Salary       City\n",
            "21   Infosys  50.0  3184.0      Delhi\n",
            "32   Infosys  45.0  4034.0   Calcutta\n",
            "39   Infosys  41.0  3000.0     Mumbai\n",
            "50   Infosys  41.0  3000.0    Chennai\n",
            "57   Infosys  51.0  3184.0  Hyderabad\n",
            "68   Infosys  43.0  4034.0     Mumbai\n",
            "75   Infosys  44.0  3000.0     Cochin\n",
            "86   Infosys  41.0  3000.0      Delhi\n",
            "93   Infosys  54.0  3184.0     Mumbai\n",
            "104  Infosys  44.0  4034.0      Delhi\n",
            "122  Infosys  44.0  3234.0     Mumbai\n",
            "129  Infosys  50.0  3184.0   Calcutta\n",
            "138      CTS  44.0  3033.0     Cochin\n",
            "140  Infosys  44.0  4034.0  Hyderabad\n",
            "145  Infosys  44.0  4034.0      Delhi\n"
          ]
        }
      ],
      "source": [
        "df1= df[ (df['Age']>40) & (df['Salary']<5000) ]\n",
        "print(df1)"
      ]
    },
    {
      "cell_type": "markdown",
      "metadata": {
        "id": "UMfQhwEirYIJ"
      },
      "source": [
        "Draw the pie chart for place and Company"
      ]
    },
    {
      "cell_type": "code",
      "execution_count": null,
      "metadata": {
        "id": "k8SoJKHXrYIJ",
        "colab": {
          "base_uri": "https://localhost:8080/",
          "height": 283
        },
        "outputId": "25c08dae-741a-495d-db41-83dded2f50c3"
      },
      "outputs": [
        {
          "output_type": "stream",
          "name": "stdout",
          "text": [
            "AxesSubplot(0.260833,0.125;0.503333x0.755)\n",
            "AxesSubplot(0.260833,0.125;0.503333x0.755)\n"
          ]
        },
        {
          "output_type": "display_data",
          "data": {
            "text/plain": [
              "<Figure size 432x288 with 1 Axes>"
            ],
            "image/png": "[encoded data removed]"
          },
          "metadata": {}
        }
      ],
      "source": [
        "df2=df['Company'].value_counts()\n",
        "print(df2.plot.pie())\n",
        "\n",
        "df3=df['City'].value_counts()\n",
        "print(df3.plot.pie())"
      ]
    },
    {
      "cell_type": "markdown",
      "metadata": {
        "id": "8J9ORNCDrYIJ"
      },
      "source": [
        "Find the mean age with repective to the Company"
      ]
    },
    {
      "cell_type": "code",
      "execution_count": null,
      "metadata": {
        "id": "9cH3-zxpuGhN",
        "outputId": "5ad62b9c-57bf-45b5-cc9e-1458da678cd0",
        "colab": {
          "base_uri": "https://localhost:8080/"
        }
      },
      "outputs": [
        {
          "output_type": "stream",
          "name": "stdout",
          "text": [
            "Company\n",
            "CTS        33\n",
            "Infosys    33\n",
            "TCS        29\n",
            "Name: Age, dtype: int64\n"
          ]
        }
      ],
      "source": [
        "a= df.groupby([\"Company\"]).mean()\n",
        "a = a.astype('int64')\n",
        "print(a['Age'])\n"
      ]
    },
    {
      "cell_type": "markdown",
      "metadata": {
        "id": "9w9BJEBlrYIJ"
      },
      "source": [
        "Draw an histogram chart for age, Salary"
      ]
    },
    {
      "cell_type": "code",
      "execution_count": null,
      "metadata": {
        "id": "A70Qii4ouF90",
        "colab": {
          "base_uri": "https://localhost:8080/",
          "height": 580
        },
        "outputId": "8ad5b067-d456-4ef3-f463-12b49e8cb89e"
      },
      "outputs": [
        {
          "output_type": "execute_result",
          "data": {
            "text/plain": [
              "array([[<matplotlib.axes._subplots.AxesSubplot object at 0x7f27dce81750>]],\n",
              "      dtype=object)"
            ]
          },
          "metadata": {},
          "execution_count": 201
        },
        {
          "output_type": "display_data",
          "data": {
            "text/plain": [
              "<Figure size 432x288 with 1 Axes>"
            ],
            "image/png": "[encoded data removed]"
          },
          "metadata": {
            "needs_background": "light"
          }
        },
        {
          "output_type": "display_data",
          "data": {
            "text/plain": [
              "<Figure size 432x288 with 1 Axes>"
            ],
            "image/png": "[encoded data removed]"
          },
          "metadata": {
            "needs_background": "light"
          }
        }
      ],
      "source": [
        "df.hist(column='Age')\n",
        "df.hist(column='Salary')"
      ]
    },
    {
      "cell_type": "markdown",
      "metadata": {
        "id": "WH5XV-66rYIJ"
      },
      "source": [
        "Find the mean, count, median of salary with repective to the place"
      ]
    },
    {
      "cell_type": "code",
      "execution_count": null,
      "metadata": {
        "id": "jndwzc4grYIJ",
        "colab": {
          "base_uri": "https://localhost:8080/"
        },
        "outputId": "70eebb52-a44d-49d6-9423-a6b6abeda3fc"
      },
      "outputs": [
        {
          "output_type": "stream",
          "name": "stdout",
          "text": [
            "City\n",
            "Bhopal        7000.000000\n",
            "Calcutta      5033.428571\n",
            "Chennai       6115.090909\n",
            "Cochin        5053.000000\n",
            "Delhi         4768.833333\n",
            "Hyderabad     4382.833333\n",
            "Mumbai        4969.142857\n",
            "Nagpur        8000.000000\n",
            "Noida         4387.000000\n",
            "Podicherry    4782.666667\n",
            "Pune          9000.000000\n",
            "Name: Salary, dtype: float64 \n",
            "\n",
            "City\n",
            "Bhopal         1\n",
            "Calcutta      28\n",
            "Chennai       11\n",
            "Cochin        12\n",
            "Delhi         12\n",
            "Hyderabad      6\n",
            "Mumbai        28\n",
            "Nagpur         1\n",
            "Noida          7\n",
            "Podicherry     3\n",
            "Pune           1\n",
            "Name: Salary, dtype: int64 \n",
            "\n",
            "City\n",
            "Bhopal        7000.0\n",
            "Calcutta      4584.5\n",
            "Chennai       6000.0\n",
            "Cochin        5017.0\n",
            "Delhi         3609.0\n",
            "Hyderabad     3609.0\n",
            "Mumbai        4824.0\n",
            "Nagpur        8000.0\n",
            "Noida         4000.0\n",
            "Podicherry    3030.0\n",
            "Pune          9000.0\n",
            "Name: Salary, dtype: float64\n"
          ]
        }
      ],
      "source": [
        "a= df.groupby([\"City\"]).mean()\n",
        "print(a['Salary'],'\\n')\n",
        "b= df.groupby([\"City\"]).count()\n",
        "print(b['Salary'],'\\n')\n",
        "c= df.groupby([\"City\"]).median()\n",
        "print(c['Salary'])"
      ]
    }
  ],
  "metadata": {
    "colab": {
      "collapsed_sections": [],
      "name": "Pandas_Excercise-checkpoint.ipynb",
      "provenance": [],
      "include_colab_link": true
    },
    "kernelspec": {
      "display_name": "Python 3 (ipykernel)",
      "language": "python",
      "name": "python3"
    },
    "language_info": {
      "codemirror_mode": {
        "name": "ipython",
        "version": 3
      },
      "file_extension": ".py",
      "mimetype": "text/x-python",
      "name": "python",
      "nbconvert_exporter": "python",
      "pygments_lexer": "ipython3",
      "version": "3.9.12"
    }
  },
  "nbformat": 4,
  "nbformat_minor": 0
}