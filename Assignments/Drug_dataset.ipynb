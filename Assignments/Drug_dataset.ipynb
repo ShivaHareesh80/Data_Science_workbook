{
  "nbformat": 4,
  "nbformat_minor": 0,
  "metadata": {
    "colab": {
      "provenance": [],
      "collapsed_sections": []
    },
    "kernelspec": {
      "name": "python3",
      "display_name": "Python 3"
    },
    "language_info": {
      "name": "python"
    }
  },
  "cells": [
    {
      "cell_type": "code",
      "execution_count": null,
      "metadata": {
        "id": "BQHCoHi53et7"
      },
      "outputs": [],
      "source": [
        "import pandas as pd\n",
        "from sklearn.model_selection import train_test_split\n",
        "from sklearn.neighbors import KNeighborsClassifier\n",
        "from sklearn.metrics import accuracy_score, confusion_matrix, classification_report\n",
        "from sklearn.preprocessing import StandardScaler,LabelEncoder"
      ]
    },
    {
      "cell_type": "code",
      "source": [
        "url=\"https://raw.githubusercontent.com/balaji2v/Inceptez_Batch19/main/drug200.csv\"\n",
        "df = pd.read_csv(url)\n",
        "df"
      ],
      "metadata": {
        "colab": {
          "base_uri": "https://localhost:8080/",
          "height": 424
        },
        "id": "UnCvOfbeADWV",
        "outputId": "c5f203ae-fd9e-479e-e065-8d33657fe16d"
      },
      "execution_count": null,
      "outputs": [
        {
          "output_type": "execute_result",
          "data": {
            "text/plain": [
              "     Age Sex      BP Cholesterol  Na_to_K   Drug\n",
              "0     23   F    HIGH        HIGH   25.355  DrugY\n",
              "1     47   M     LOW        HIGH   13.093  drugC\n",
              "2     47   M     LOW        HIGH   10.114  drugC\n",
              "3     28   F  NORMAL        HIGH    7.798  drugX\n",
              "4     61   F     LOW        HIGH   18.043  DrugY\n",
              "..   ...  ..     ...         ...      ...    ...\n",
              "195   56   F     LOW        HIGH   11.567  drugC\n",
              "196   16   M     LOW        HIGH   12.006  drugC\n",
              "197   52   M  NORMAL        HIGH    9.894  drugX\n",
              "198   23   M  NORMAL      NORMAL   14.020  drugX\n",
              "199   40   F     LOW      NORMAL   11.349  drugX\n",
              "\n",
              "[200 rows x 6 columns]"
            ],
            "text/html": [
              "\n",
              "  <div id=\"df-ef94d7ea-ab97-4dc0-b887-287f359e450c\">\n",
              "    <div class=\"colab-df-container\">\n",
              "      <div>\n",
              "<style scoped>\n",
              "    .dataframe tbody tr th:only-of-type {\n",
              "        vertical-align: middle;\n",
              "    }\n",
              "\n",
              "    .dataframe tbody tr th {\n",
              "        vertical-align: top;\n",
              "    }\n",
              "\n",
              "    .dataframe thead th {\n",
              "        text-align: right;\n",
              "    }\n",
              "</style>\n",
              "<table border=\"1\" class=\"dataframe\">\n",
              "  <thead>\n",
              "    <tr style=\"text-align: right;\">\n",
              "      <th></th>\n",
              "      <th>Age</th>\n",
              "      <th>Sex</th>\n",
              "      <th>BP</th>\n",
              "      <th>Cholesterol</th>\n",
              "      <th>Na_to_K</th>\n",
              "      <th>Drug</th>\n",
              "    </tr>\n",
              "  </thead>\n",
              "  <tbody>\n",
              "    <tr>\n",
              "      <th>0</th>\n",
              "      <td>23</td>\n",
              "      <td>F</td>\n",
              "      <td>HIGH</td>\n",
              "      <td>HIGH</td>\n",
              "      <td>25.355</td>\n",
              "      <td>DrugY</td>\n",
              "    </tr>\n",
              "    <tr>\n",
              "      <th>1</th>\n",
              "      <td>47</td>\n",
              "      <td>M</td>\n",
              "      <td>LOW</td>\n",
              "      <td>HIGH</td>\n",
              "      <td>13.093</td>\n",
              "      <td>drugC</td>\n",
              "    </tr>\n",
              "    <tr>\n",
              "      <th>2</th>\n",
              "      <td>47</td>\n",
              "      <td>M</td>\n",
              "      <td>LOW</td>\n",
              "      <td>HIGH</td>\n",
              "      <td>10.114</td>\n",
              "      <td>drugC</td>\n",
              "    </tr>\n",
              "    <tr>\n",
              "      <th>3</th>\n",
              "      <td>28</td>\n",
              "      <td>F</td>\n",
              "      <td>NORMAL</td>\n",
              "      <td>HIGH</td>\n",
              "      <td>7.798</td>\n",
              "      <td>drugX</td>\n",
              "    </tr>\n",
              "    <tr>\n",
              "      <th>4</th>\n",
              "      <td>61</td>\n",
              "      <td>F</td>\n",
              "      <td>LOW</td>\n",
              "      <td>HIGH</td>\n",
              "      <td>18.043</td>\n",
              "      <td>DrugY</td>\n",
              "    </tr>\n",
              "    <tr>\n",
              "      <th>...</th>\n",
              "      <td>...</td>\n",
              "      <td>...</td>\n",
              "      <td>...</td>\n",
              "      <td>...</td>\n",
              "      <td>...</td>\n",
              "      <td>...</td>\n",
              "    </tr>\n",
              "    <tr>\n",
              "      <th>195</th>\n",
              "      <td>56</td>\n",
              "      <td>F</td>\n",
              "      <td>LOW</td>\n",
              "      <td>HIGH</td>\n",
              "      <td>11.567</td>\n",
              "      <td>drugC</td>\n",
              "    </tr>\n",
              "    <tr>\n",
              "      <th>196</th>\n",
              "      <td>16</td>\n",
              "      <td>M</td>\n",
              "      <td>LOW</td>\n",
              "      <td>HIGH</td>\n",
              "      <td>12.006</td>\n",
              "      <td>drugC</td>\n",
              "    </tr>\n",
              "    <tr>\n",
              "      <th>197</th>\n",
              "      <td>52</td>\n",
              "      <td>M</td>\n",
              "      <td>NORMAL</td>\n",
              "      <td>HIGH</td>\n",
              "      <td>9.894</td>\n",
              "      <td>drugX</td>\n",
              "    </tr>\n",
              "    <tr>\n",
              "      <th>198</th>\n",
              "      <td>23</td>\n",
              "      <td>M</td>\n",
              "      <td>NORMAL</td>\n",
              "      <td>NORMAL</td>\n",
              "      <td>14.020</td>\n",
              "      <td>drugX</td>\n",
              "    </tr>\n",
              "    <tr>\n",
              "      <th>199</th>\n",
              "      <td>40</td>\n",
              "      <td>F</td>\n",
              "      <td>LOW</td>\n",
              "      <td>NORMAL</td>\n",
              "      <td>11.349</td>\n",
              "      <td>drugX</td>\n",
              "    </tr>\n",
              "  </tbody>\n",
              "</table>\n",
              "<p>200 rows × 6 columns</p>\n",
              "</div>\n",
              "      <button class=\"colab-df-convert\" onclick=\"convertToInteractive('df-ef94d7ea-ab97-4dc0-b887-287f359e450c')\"\n",
              "              title=\"Convert this dataframe to an interactive table.\"\n",
              "              style=\"display:none;\">\n",
              "        \n",
              "  <svg xmlns=\"http://www.w3.org/2000/svg\" height=\"24px\"viewBox=\"0 0 24 24\"\n",
              "       width=\"24px\">\n",
              "    <path d=\"M0 0h24v24H0V0z\" fill=\"none\"/>\n",
              "    <path d=\"M18.56 5.44l.94 2.06.94-2.06 2.06-.94-2.06-.94-.94-2.06-.94 2.06-2.06.94zm-11 1L8.5 8.5l.94-2.06 2.06-.94-2.06-.94L8.5 2.5l-.94 2.06-2.06.94zm10 10l.94 2.06.94-2.06 2.06-.94-2.06-.94-.94-2.06-.94 2.06-2.06.94z\"/><path d=\"M17.41 7.96l-1.37-1.37c-.4-.4-.92-.59-1.43-.59-.52 0-1.04.2-1.43.59L10.3 9.45l-7.72 7.72c-.78.78-.78 2.05 0 2.83L4 21.41c.39.39.9.59 1.41.59.51 0 1.02-.2 1.41-.59l7.78-7.78 2.81-2.81c.8-.78.8-2.07 0-2.86zM5.41 20L4 18.59l7.72-7.72 1.47 1.35L5.41 20z\"/>\n",
              "  </svg>\n",
              "      </button>\n",
              "      \n",
              "  <style>\n",
              "    .colab-df-container {\n",
              "      display:flex;\n",
              "      flex-wrap:wrap;\n",
              "      gap: 12px;\n",
              "    }\n",
              "\n",
              "    .colab-df-convert {\n",
              "      background-color: #E8F0FE;\n",
              "      border: none;\n",
              "      border-radius: 50%;\n",
              "      cursor: pointer;\n",
              "      display: none;\n",
              "      fill: #1967D2;\n",
              "      height: 32px;\n",
              "      padding: 0 0 0 0;\n",
              "      width: 32px;\n",
              "    }\n",
              "\n",
              "    .colab-df-convert:hover {\n",
              "      background-color: #E2EBFA;\n",
              "      box-shadow: 0px 1px 2px rgba(60, 64, 67, 0.3), 0px 1px 3px 1px rgba(60, 64, 67, 0.15);\n",
              "      fill: #174EA6;\n",
              "    }\n",
              "\n",
              "    [theme=dark] .colab-df-convert {\n",
              "      background-color: #3B4455;\n",
              "      fill: #D2E3FC;\n",
              "    }\n",
              "\n",
              "    [theme=dark] .colab-df-convert:hover {\n",
              "      background-color: #434B5C;\n",
              "      box-shadow: 0px 1px 3px 1px rgba(0, 0, 0, 0.15);\n",
              "      filter: drop-shadow(0px 1px 2px rgba(0, 0, 0, 0.3));\n",
              "      fill: #FFFFFF;\n",
              "    }\n",
              "  </style>\n",
              "\n",
              "      <script>\n",
              "        const buttonEl =\n",
              "          document.querySelector('#df-ef94d7ea-ab97-4dc0-b887-287f359e450c button.colab-df-convert');\n",
              "        buttonEl.style.display =\n",
              "          google.colab.kernel.accessAllowed ? 'block' : 'none';\n",
              "\n",
              "        async function convertToInteractive(key) {\n",
              "          const element = document.querySelector('#df-ef94d7ea-ab97-4dc0-b887-287f359e450c');\n",
              "          const dataTable =\n",
              "            await google.colab.kernel.invokeFunction('convertToInteractive',\n",
              "                                                     [key], {});\n",
              "          if (!dataTable) return;\n",
              "\n",
              "          const docLinkHtml = 'Like what you see? Visit the ' +\n",
              "            '<a target=\"_blank\" href=https://colab.research.google.com/notebooks/data_table.ipynb>data table notebook</a>'\n",
              "            + ' to learn more about interactive tables.';\n",
              "          element.innerHTML = '';\n",
              "          dataTable['output_type'] = 'display_data';\n",
              "          await google.colab.output.renderOutput(dataTable, element);\n",
              "          const docLink = document.createElement('div');\n",
              "          docLink.innerHTML = docLinkHtml;\n",
              "          element.appendChild(docLink);\n",
              "        }\n",
              "      </script>\n",
              "    </div>\n",
              "  </div>\n",
              "  "
            ]
          },
          "metadata": {},
          "execution_count": 91
        }
      ]
    },
    {
      "cell_type": "code",
      "source": [
        "df.info()"
      ],
      "metadata": {
        "colab": {
          "base_uri": "https://localhost:8080/"
        },
        "id": "2zYVUKvHChcr",
        "outputId": "84d902e1-5c8e-48d6-841d-8993c820ef31"
      },
      "execution_count": null,
      "outputs": [
        {
          "output_type": "stream",
          "name": "stdout",
          "text": [
            "<class 'pandas.core.frame.DataFrame'>\n",
            "RangeIndex: 200 entries, 0 to 199\n",
            "Data columns (total 6 columns):\n",
            " #   Column       Non-Null Count  Dtype  \n",
            "---  ------       --------------  -----  \n",
            " 0   Age          200 non-null    int64  \n",
            " 1   Sex          200 non-null    object \n",
            " 2   BP           200 non-null    object \n",
            " 3   Cholesterol  200 non-null    object \n",
            " 4   Na_to_K      200 non-null    float64\n",
            " 5   Drug         200 non-null    object \n",
            "dtypes: float64(1), int64(1), object(4)\n",
            "memory usage: 9.5+ KB\n"
          ]
        }
      ]
    },
    {
      "cell_type": "code",
      "source": [
        "df.describe(include=\"all\").T "
      ],
      "metadata": {
        "colab": {
          "base_uri": "https://localhost:8080/",
          "height": 238
        },
        "id": "f64C5l42r_Ku",
        "outputId": "0da4eb82-a29e-4cff-d3a2-bd106d2ed6b8"
      },
      "execution_count": null,
      "outputs": [
        {
          "output_type": "execute_result",
          "data": {
            "text/plain": [
              "             count unique    top freq       mean        std    min      25%  \\\n",
              "Age          200.0    NaN    NaN  NaN     44.315  16.544315   15.0     31.0   \n",
              "Sex            200      2      M  104        NaN        NaN    NaN      NaN   \n",
              "BP             200      3   HIGH   77        NaN        NaN    NaN      NaN   \n",
              "Cholesterol    200      2   HIGH  103        NaN        NaN    NaN      NaN   \n",
              "Na_to_K      200.0    NaN    NaN  NaN  16.084485   7.223956  6.269  10.4455   \n",
              "Drug           200      5  DrugY   91        NaN        NaN    NaN      NaN   \n",
              "\n",
              "                 50%    75%     max  \n",
              "Age             45.0   58.0    74.0  \n",
              "Sex              NaN    NaN     NaN  \n",
              "BP               NaN    NaN     NaN  \n",
              "Cholesterol      NaN    NaN     NaN  \n",
              "Na_to_K      13.9365  19.38  38.247  \n",
              "Drug             NaN    NaN     NaN  "
            ],
            "text/html": [
              "\n",
              "  <div id=\"df-e7301f14-7f26-4a04-b1ab-c142bdc7040d\">\n",
              "    <div class=\"colab-df-container\">\n",
              "      <div>\n",
              "<style scoped>\n",
              "    .dataframe tbody tr th:only-of-type {\n",
              "        vertical-align: middle;\n",
              "    }\n",
              "\n",
              "    .dataframe tbody tr th {\n",
              "        vertical-align: top;\n",
              "    }\n",
              "\n",
              "    .dataframe thead th {\n",
              "        text-align: right;\n",
              "    }\n",
              "</style>\n",
              "<table border=\"1\" class=\"dataframe\">\n",
              "  <thead>\n",
              "    <tr style=\"text-align: right;\">\n",
              "      <th></th>\n",
              "      <th>count</th>\n",
              "      <th>unique</th>\n",
              "      <th>top</th>\n",
              "      <th>freq</th>\n",
              "      <th>mean</th>\n",
              "      <th>std</th>\n",
              "      <th>min</th>\n",
              "      <th>25%</th>\n",
              "      <th>50%</th>\n",
              "      <th>75%</th>\n",
              "      <th>max</th>\n",
              "    </tr>\n",
              "  </thead>\n",
              "  <tbody>\n",
              "    <tr>\n",
              "      <th>Age</th>\n",
              "      <td>200.0</td>\n",
              "      <td>NaN</td>\n",
              "      <td>NaN</td>\n",
              "      <td>NaN</td>\n",
              "      <td>44.315</td>\n",
              "      <td>16.544315</td>\n",
              "      <td>15.0</td>\n",
              "      <td>31.0</td>\n",
              "      <td>45.0</td>\n",
              "      <td>58.0</td>\n",
              "      <td>74.0</td>\n",
              "    </tr>\n",
              "    <tr>\n",
              "      <th>Sex</th>\n",
              "      <td>200</td>\n",
              "      <td>2</td>\n",
              "      <td>M</td>\n",
              "      <td>104</td>\n",
              "      <td>NaN</td>\n",
              "      <td>NaN</td>\n",
              "      <td>NaN</td>\n",
              "      <td>NaN</td>\n",
              "      <td>NaN</td>\n",
              "      <td>NaN</td>\n",
              "      <td>NaN</td>\n",
              "    </tr>\n",
              "    <tr>\n",
              "      <th>BP</th>\n",
              "      <td>200</td>\n",
              "      <td>3</td>\n",
              "      <td>HIGH</td>\n",
              "      <td>77</td>\n",
              "      <td>NaN</td>\n",
              "      <td>NaN</td>\n",
              "      <td>NaN</td>\n",
              "      <td>NaN</td>\n",
              "      <td>NaN</td>\n",
              "      <td>NaN</td>\n",
              "      <td>NaN</td>\n",
              "    </tr>\n",
              "    <tr>\n",
              "      <th>Cholesterol</th>\n",
              "      <td>200</td>\n",
              "      <td>2</td>\n",
              "      <td>HIGH</td>\n",
              "      <td>103</td>\n",
              "      <td>NaN</td>\n",
              "      <td>NaN</td>\n",
              "      <td>NaN</td>\n",
              "      <td>NaN</td>\n",
              "      <td>NaN</td>\n",
              "      <td>NaN</td>\n",
              "      <td>NaN</td>\n",
              "    </tr>\n",
              "    <tr>\n",
              "      <th>Na_to_K</th>\n",
              "      <td>200.0</td>\n",
              "      <td>NaN</td>\n",
              "      <td>NaN</td>\n",
              "      <td>NaN</td>\n",
              "      <td>16.084485</td>\n",
              "      <td>7.223956</td>\n",
              "      <td>6.269</td>\n",
              "      <td>10.4455</td>\n",
              "      <td>13.9365</td>\n",
              "      <td>19.38</td>\n",
              "      <td>38.247</td>\n",
              "    </tr>\n",
              "    <tr>\n",
              "      <th>Drug</th>\n",
              "      <td>200</td>\n",
              "      <td>5</td>\n",
              "      <td>DrugY</td>\n",
              "      <td>91</td>\n",
              "      <td>NaN</td>\n",
              "      <td>NaN</td>\n",
              "      <td>NaN</td>\n",
              "      <td>NaN</td>\n",
              "      <td>NaN</td>\n",
              "      <td>NaN</td>\n",
              "      <td>NaN</td>\n",
              "    </tr>\n",
              "  </tbody>\n",
              "</table>\n",
              "</div>\n",
              "      <button class=\"colab-df-convert\" onclick=\"convertToInteractive('df-e7301f14-7f26-4a04-b1ab-c142bdc7040d')\"\n",
              "              title=\"Convert this dataframe to an interactive table.\"\n",
              "              style=\"display:none;\">\n",
              "        \n",
              "  <svg xmlns=\"http://www.w3.org/2000/svg\" height=\"24px\"viewBox=\"0 0 24 24\"\n",
              "       width=\"24px\">\n",
              "    <path d=\"M0 0h24v24H0V0z\" fill=\"none\"/>\n",
              "    <path d=\"M18.56 5.44l.94 2.06.94-2.06 2.06-.94-2.06-.94-.94-2.06-.94 2.06-2.06.94zm-11 1L8.5 8.5l.94-2.06 2.06-.94-2.06-.94L8.5 2.5l-.94 2.06-2.06.94zm10 10l.94 2.06.94-2.06 2.06-.94-2.06-.94-.94-2.06-.94 2.06-2.06.94z\"/><path d=\"M17.41 7.96l-1.37-1.37c-.4-.4-.92-.59-1.43-.59-.52 0-1.04.2-1.43.59L10.3 9.45l-7.72 7.72c-.78.78-.78 2.05 0 2.83L4 21.41c.39.39.9.59 1.41.59.51 0 1.02-.2 1.41-.59l7.78-7.78 2.81-2.81c.8-.78.8-2.07 0-2.86zM5.41 20L4 18.59l7.72-7.72 1.47 1.35L5.41 20z\"/>\n",
              "  </svg>\n",
              "      </button>\n",
              "      \n",
              "  <style>\n",
              "    .colab-df-container {\n",
              "      display:flex;\n",
              "      flex-wrap:wrap;\n",
              "      gap: 12px;\n",
              "    }\n",
              "\n",
              "    .colab-df-convert {\n",
              "      background-color: #E8F0FE;\n",
              "      border: none;\n",
              "      border-radius: 50%;\n",
              "      cursor: pointer;\n",
              "      display: none;\n",
              "      fill: #1967D2;\n",
              "      height: 32px;\n",
              "      padding: 0 0 0 0;\n",
              "      width: 32px;\n",
              "    }\n",
              "\n",
              "    .colab-df-convert:hover {\n",
              "      background-color: #E2EBFA;\n",
              "      box-shadow: 0px 1px 2px rgba(60, 64, 67, 0.3), 0px 1px 3px 1px rgba(60, 64, 67, 0.15);\n",
              "      fill: #174EA6;\n",
              "    }\n",
              "\n",
              "    [theme=dark] .colab-df-convert {\n",
              "      background-color: #3B4455;\n",
              "      fill: #D2E3FC;\n",
              "    }\n",
              "\n",
              "    [theme=dark] .colab-df-convert:hover {\n",
              "      background-color: #434B5C;\n",
              "      box-shadow: 0px 1px 3px 1px rgba(0, 0, 0, 0.15);\n",
              "      filter: drop-shadow(0px 1px 2px rgba(0, 0, 0, 0.3));\n",
              "      fill: #FFFFFF;\n",
              "    }\n",
              "  </style>\n",
              "\n",
              "      <script>\n",
              "        const buttonEl =\n",
              "          document.querySelector('#df-e7301f14-7f26-4a04-b1ab-c142bdc7040d button.colab-df-convert');\n",
              "        buttonEl.style.display =\n",
              "          google.colab.kernel.accessAllowed ? 'block' : 'none';\n",
              "\n",
              "        async function convertToInteractive(key) {\n",
              "          const element = document.querySelector('#df-e7301f14-7f26-4a04-b1ab-c142bdc7040d');\n",
              "          const dataTable =\n",
              "            await google.colab.kernel.invokeFunction('convertToInteractive',\n",
              "                                                     [key], {});\n",
              "          if (!dataTable) return;\n",
              "\n",
              "          const docLinkHtml = 'Like what you see? Visit the ' +\n",
              "            '<a target=\"_blank\" href=https://colab.research.google.com/notebooks/data_table.ipynb>data table notebook</a>'\n",
              "            + ' to learn more about interactive tables.';\n",
              "          element.innerHTML = '';\n",
              "          dataTable['output_type'] = 'display_data';\n",
              "          await google.colab.output.renderOutput(dataTable, element);\n",
              "          const docLink = document.createElement('div');\n",
              "          docLink.innerHTML = docLinkHtml;\n",
              "          element.appendChild(docLink);\n",
              "        }\n",
              "      </script>\n",
              "    </div>\n",
              "  </div>\n",
              "  "
            ]
          },
          "metadata": {},
          "execution_count": 93
        }
      ]
    },
    {
      "cell_type": "code",
      "source": [
        "df[\"Drug\"].value_counts()"
      ],
      "metadata": {
        "colab": {
          "base_uri": "https://localhost:8080/"
        },
        "id": "l6loM0EdrVbR",
        "outputId": "22687cae-5e24-43bf-ae7a-6352bd3fad5a"
      },
      "execution_count": null,
      "outputs": [
        {
          "output_type": "execute_result",
          "data": {
            "text/plain": [
              "DrugY    91\n",
              "drugX    54\n",
              "drugA    23\n",
              "drugC    16\n",
              "drugB    16\n",
              "Name: Drug, dtype: int64"
            ]
          },
          "metadata": {},
          "execution_count": 94
        }
      ]
    },
    {
      "cell_type": "code",
      "source": [
        "df.replace(\"DrugY\",\"drugY\",inplace=True)\n"
      ],
      "metadata": {
        "id": "ZzRjKGR7NkCz"
      },
      "execution_count": null,
      "outputs": []
    },
    {
      "cell_type": "code",
      "source": [
        "x = df.iloc[:,:-1]\n",
        "x.head()"
      ],
      "metadata": {
        "colab": {
          "base_uri": "https://localhost:8080/",
          "height": 206
        },
        "id": "B7PEl8iNuekc",
        "outputId": "7d86d912-c975-43d0-8ccd-213a42d9c744"
      },
      "execution_count": null,
      "outputs": [
        {
          "output_type": "execute_result",
          "data": {
            "text/plain": [
              "   Age Sex      BP Cholesterol  Na_to_K\n",
              "0   23   F    HIGH        HIGH   25.355\n",
              "1   47   M     LOW        HIGH   13.093\n",
              "2   47   M     LOW        HIGH   10.114\n",
              "3   28   F  NORMAL        HIGH    7.798\n",
              "4   61   F     LOW        HIGH   18.043"
            ],
            "text/html": [
              "\n",
              "  <div id=\"df-b74f5159-37a0-44af-b3a9-ac15f2cf98c2\">\n",
              "    <div class=\"colab-df-container\">\n",
              "      <div>\n",
              "<style scoped>\n",
              "    .dataframe tbody tr th:only-of-type {\n",
              "        vertical-align: middle;\n",
              "    }\n",
              "\n",
              "    .dataframe tbody tr th {\n",
              "        vertical-align: top;\n",
              "    }\n",
              "\n",
              "    .dataframe thead th {\n",
              "        text-align: right;\n",
              "    }\n",
              "</style>\n",
              "<table border=\"1\" class=\"dataframe\">\n",
              "  <thead>\n",
              "    <tr style=\"text-align: right;\">\n",
              "      <th></th>\n",
              "      <th>Age</th>\n",
              "      <th>Sex</th>\n",
              "      <th>BP</th>\n",
              "      <th>Cholesterol</th>\n",
              "      <th>Na_to_K</th>\n",
              "    </tr>\n",
              "  </thead>\n",
              "  <tbody>\n",
              "    <tr>\n",
              "      <th>0</th>\n",
              "      <td>23</td>\n",
              "      <td>F</td>\n",
              "      <td>HIGH</td>\n",
              "      <td>HIGH</td>\n",
              "      <td>25.355</td>\n",
              "    </tr>\n",
              "    <tr>\n",
              "      <th>1</th>\n",
              "      <td>47</td>\n",
              "      <td>M</td>\n",
              "      <td>LOW</td>\n",
              "      <td>HIGH</td>\n",
              "      <td>13.093</td>\n",
              "    </tr>\n",
              "    <tr>\n",
              "      <th>2</th>\n",
              "      <td>47</td>\n",
              "      <td>M</td>\n",
              "      <td>LOW</td>\n",
              "      <td>HIGH</td>\n",
              "      <td>10.114</td>\n",
              "    </tr>\n",
              "    <tr>\n",
              "      <th>3</th>\n",
              "      <td>28</td>\n",
              "      <td>F</td>\n",
              "      <td>NORMAL</td>\n",
              "      <td>HIGH</td>\n",
              "      <td>7.798</td>\n",
              "    </tr>\n",
              "    <tr>\n",
              "      <th>4</th>\n",
              "      <td>61</td>\n",
              "      <td>F</td>\n",
              "      <td>LOW</td>\n",
              "      <td>HIGH</td>\n",
              "      <td>18.043</td>\n",
              "    </tr>\n",
              "  </tbody>\n",
              "</table>\n",
              "</div>\n",
              "      <button class=\"colab-df-convert\" onclick=\"convertToInteractive('df-b74f5159-37a0-44af-b3a9-ac15f2cf98c2')\"\n",
              "              title=\"Convert this dataframe to an interactive table.\"\n",
              "              style=\"display:none;\">\n",
              "        \n",
              "  <svg xmlns=\"http://www.w3.org/2000/svg\" height=\"24px\"viewBox=\"0 0 24 24\"\n",
              "       width=\"24px\">\n",
              "    <path d=\"M0 0h24v24H0V0z\" fill=\"none\"/>\n",
              "    <path d=\"M18.56 5.44l.94 2.06.94-2.06 2.06-.94-2.06-.94-.94-2.06-.94 2.06-2.06.94zm-11 1L8.5 8.5l.94-2.06 2.06-.94-2.06-.94L8.5 2.5l-.94 2.06-2.06.94zm10 10l.94 2.06.94-2.06 2.06-.94-2.06-.94-.94-2.06-.94 2.06-2.06.94z\"/><path d=\"M17.41 7.96l-1.37-1.37c-.4-.4-.92-.59-1.43-.59-.52 0-1.04.2-1.43.59L10.3 9.45l-7.72 7.72c-.78.78-.78 2.05 0 2.83L4 21.41c.39.39.9.59 1.41.59.51 0 1.02-.2 1.41-.59l7.78-7.78 2.81-2.81c.8-.78.8-2.07 0-2.86zM5.41 20L4 18.59l7.72-7.72 1.47 1.35L5.41 20z\"/>\n",
              "  </svg>\n",
              "      </button>\n",
              "      \n",
              "  <style>\n",
              "    .colab-df-container {\n",
              "      display:flex;\n",
              "      flex-wrap:wrap;\n",
              "      gap: 12px;\n",
              "    }\n",
              "\n",
              "    .colab-df-convert {\n",
              "      background-color: #E8F0FE;\n",
              "      border: none;\n",
              "      border-radius: 50%;\n",
              "      cursor: pointer;\n",
              "      display: none;\n",
              "      fill: #1967D2;\n",
              "      height: 32px;\n",
              "      padding: 0 0 0 0;\n",
              "      width: 32px;\n",
              "    }\n",
              "\n",
              "    .colab-df-convert:hover {\n",
              "      background-color: #E2EBFA;\n",
              "      box-shadow: 0px 1px 2px rgba(60, 64, 67, 0.3), 0px 1px 3px 1px rgba(60, 64, 67, 0.15);\n",
              "      fill: #174EA6;\n",
              "    }\n",
              "\n",
              "    [theme=dark] .colab-df-convert {\n",
              "      background-color: #3B4455;\n",
              "      fill: #D2E3FC;\n",
              "    }\n",
              "\n",
              "    [theme=dark] .colab-df-convert:hover {\n",
              "      background-color: #434B5C;\n",
              "      box-shadow: 0px 1px 3px 1px rgba(0, 0, 0, 0.15);\n",
              "      filter: drop-shadow(0px 1px 2px rgba(0, 0, 0, 0.3));\n",
              "      fill: #FFFFFF;\n",
              "    }\n",
              "  </style>\n",
              "\n",
              "      <script>\n",
              "        const buttonEl =\n",
              "          document.querySelector('#df-b74f5159-37a0-44af-b3a9-ac15f2cf98c2 button.colab-df-convert');\n",
              "        buttonEl.style.display =\n",
              "          google.colab.kernel.accessAllowed ? 'block' : 'none';\n",
              "\n",
              "        async function convertToInteractive(key) {\n",
              "          const element = document.querySelector('#df-b74f5159-37a0-44af-b3a9-ac15f2cf98c2');\n",
              "          const dataTable =\n",
              "            await google.colab.kernel.invokeFunction('convertToInteractive',\n",
              "                                                     [key], {});\n",
              "          if (!dataTable) return;\n",
              "\n",
              "          const docLinkHtml = 'Like what you see? Visit the ' +\n",
              "            '<a target=\"_blank\" href=https://colab.research.google.com/notebooks/data_table.ipynb>data table notebook</a>'\n",
              "            + ' to learn more about interactive tables.';\n",
              "          element.innerHTML = '';\n",
              "          dataTable['output_type'] = 'display_data';\n",
              "          await google.colab.output.renderOutput(dataTable, element);\n",
              "          const docLink = document.createElement('div');\n",
              "          docLink.innerHTML = docLinkHtml;\n",
              "          element.appendChild(docLink);\n",
              "        }\n",
              "      </script>\n",
              "    </div>\n",
              "  </div>\n",
              "  "
            ]
          },
          "metadata": {},
          "execution_count": 96
        }
      ]
    },
    {
      "cell_type": "code",
      "source": [
        "y=df.iloc[:,-1]\n",
        "y.head()"
      ],
      "metadata": {
        "colab": {
          "base_uri": "https://localhost:8080/"
        },
        "id": "AGp22qBCumgy",
        "outputId": "04b79ce4-ad73-4850-c037-06b89d37c1de"
      },
      "execution_count": null,
      "outputs": [
        {
          "output_type": "execute_result",
          "data": {
            "text/plain": [
              "0    drugY\n",
              "1    drugC\n",
              "2    drugC\n",
              "3    drugX\n",
              "4    drugY\n",
              "Name: Drug, dtype: object"
            ]
          },
          "metadata": {},
          "execution_count": 97
        }
      ]
    },
    {
      "cell_type": "code",
      "source": [
        "lb_make = LabelEncoder()\n"
      ],
      "metadata": {
        "id": "GZ7bDccetma_"
      },
      "execution_count": null,
      "outputs": []
    },
    {
      "cell_type": "code",
      "source": [
        "x['Sex'] = lb_make.fit_transform(x['Sex'])"
      ],
      "metadata": {
        "id": "aD-JZHjiuHnM"
      },
      "execution_count": null,
      "outputs": []
    },
    {
      "cell_type": "code",
      "source": [
        "x['BP'] = lb_make.fit_transform(x['BP'])"
      ],
      "metadata": {
        "id": "E6MKWxFeuMJM"
      },
      "execution_count": null,
      "outputs": []
    },
    {
      "cell_type": "code",
      "source": [
        "x['Cholesterol'] = lb_make.fit_transform(x['Cholesterol'])"
      ],
      "metadata": {
        "id": "rgHB7pJouNKE"
      },
      "execution_count": null,
      "outputs": []
    },
    {
      "cell_type": "code",
      "source": [
        "x"
      ],
      "metadata": {
        "colab": {
          "base_uri": "https://localhost:8080/",
          "height": 424
        },
        "id": "X8CHcuoPFqZJ",
        "outputId": "46973254-feb3-44a9-db7e-42b7b877cf9c"
      },
      "execution_count": null,
      "outputs": [
        {
          "output_type": "execute_result",
          "data": {
            "text/plain": [
              "     Age  Sex  BP  Cholesterol  Na_to_K\n",
              "0     23    0   0            0   25.355\n",
              "1     47    1   1            0   13.093\n",
              "2     47    1   1            0   10.114\n",
              "3     28    0   2            0    7.798\n",
              "4     61    0   1            0   18.043\n",
              "..   ...  ...  ..          ...      ...\n",
              "195   56    0   1            0   11.567\n",
              "196   16    1   1            0   12.006\n",
              "197   52    1   2            0    9.894\n",
              "198   23    1   2            1   14.020\n",
              "199   40    0   1            1   11.349\n",
              "\n",
              "[200 rows x 5 columns]"
            ],
            "text/html": [
              "\n",
              "  <div id=\"df-9a812963-c6b3-4cf6-882f-6d48c458b865\">\n",
              "    <div class=\"colab-df-container\">\n",
              "      <div>\n",
              "<style scoped>\n",
              "    .dataframe tbody tr th:only-of-type {\n",
              "        vertical-align: middle;\n",
              "    }\n",
              "\n",
              "    .dataframe tbody tr th {\n",
              "        vertical-align: top;\n",
              "    }\n",
              "\n",
              "    .dataframe thead th {\n",
              "        text-align: right;\n",
              "    }\n",
              "</style>\n",
              "<table border=\"1\" class=\"dataframe\">\n",
              "  <thead>\n",
              "    <tr style=\"text-align: right;\">\n",
              "      <th></th>\n",
              "      <th>Age</th>\n",
              "      <th>Sex</th>\n",
              "      <th>BP</th>\n",
              "      <th>Cholesterol</th>\n",
              "      <th>Na_to_K</th>\n",
              "    </tr>\n",
              "  </thead>\n",
              "  <tbody>\n",
              "    <tr>\n",
              "      <th>0</th>\n",
              "      <td>23</td>\n",
              "      <td>0</td>\n",
              "      <td>0</td>\n",
              "      <td>0</td>\n",
              "      <td>25.355</td>\n",
              "    </tr>\n",
              "    <tr>\n",
              "      <th>1</th>\n",
              "      <td>47</td>\n",
              "      <td>1</td>\n",
              "      <td>1</td>\n",
              "      <td>0</td>\n",
              "      <td>13.093</td>\n",
              "    </tr>\n",
              "    <tr>\n",
              "      <th>2</th>\n",
              "      <td>47</td>\n",
              "      <td>1</td>\n",
              "      <td>1</td>\n",
              "      <td>0</td>\n",
              "      <td>10.114</td>\n",
              "    </tr>\n",
              "    <tr>\n",
              "      <th>3</th>\n",
              "      <td>28</td>\n",
              "      <td>0</td>\n",
              "      <td>2</td>\n",
              "      <td>0</td>\n",
              "      <td>7.798</td>\n",
              "    </tr>\n",
              "    <tr>\n",
              "      <th>4</th>\n",
              "      <td>61</td>\n",
              "      <td>0</td>\n",
              "      <td>1</td>\n",
              "      <td>0</td>\n",
              "      <td>18.043</td>\n",
              "    </tr>\n",
              "    <tr>\n",
              "      <th>...</th>\n",
              "      <td>...</td>\n",
              "      <td>...</td>\n",
              "      <td>...</td>\n",
              "      <td>...</td>\n",
              "      <td>...</td>\n",
              "    </tr>\n",
              "    <tr>\n",
              "      <th>195</th>\n",
              "      <td>56</td>\n",
              "      <td>0</td>\n",
              "      <td>1</td>\n",
              "      <td>0</td>\n",
              "      <td>11.567</td>\n",
              "    </tr>\n",
              "    <tr>\n",
              "      <th>196</th>\n",
              "      <td>16</td>\n",
              "      <td>1</td>\n",
              "      <td>1</td>\n",
              "      <td>0</td>\n",
              "      <td>12.006</td>\n",
              "    </tr>\n",
              "    <tr>\n",
              "      <th>197</th>\n",
              "      <td>52</td>\n",
              "      <td>1</td>\n",
              "      <td>2</td>\n",
              "      <td>0</td>\n",
              "      <td>9.894</td>\n",
              "    </tr>\n",
              "    <tr>\n",
              "      <th>198</th>\n",
              "      <td>23</td>\n",
              "      <td>1</td>\n",
              "      <td>2</td>\n",
              "      <td>1</td>\n",
              "      <td>14.020</td>\n",
              "    </tr>\n",
              "    <tr>\n",
              "      <th>199</th>\n",
              "      <td>40</td>\n",
              "      <td>0</td>\n",
              "      <td>1</td>\n",
              "      <td>1</td>\n",
              "      <td>11.349</td>\n",
              "    </tr>\n",
              "  </tbody>\n",
              "</table>\n",
              "<p>200 rows × 5 columns</p>\n",
              "</div>\n",
              "      <button class=\"colab-df-convert\" onclick=\"convertToInteractive('df-9a812963-c6b3-4cf6-882f-6d48c458b865')\"\n",
              "              title=\"Convert this dataframe to an interactive table.\"\n",
              "              style=\"display:none;\">\n",
              "        \n",
              "  <svg xmlns=\"http://www.w3.org/2000/svg\" height=\"24px\"viewBox=\"0 0 24 24\"\n",
              "       width=\"24px\">\n",
              "    <path d=\"M0 0h24v24H0V0z\" fill=\"none\"/>\n",
              "    <path d=\"M18.56 5.44l.94 2.06.94-2.06 2.06-.94-2.06-.94-.94-2.06-.94 2.06-2.06.94zm-11 1L8.5 8.5l.94-2.06 2.06-.94-2.06-.94L8.5 2.5l-.94 2.06-2.06.94zm10 10l.94 2.06.94-2.06 2.06-.94-2.06-.94-.94-2.06-.94 2.06-2.06.94z\"/><path d=\"M17.41 7.96l-1.37-1.37c-.4-.4-.92-.59-1.43-.59-.52 0-1.04.2-1.43.59L10.3 9.45l-7.72 7.72c-.78.78-.78 2.05 0 2.83L4 21.41c.39.39.9.59 1.41.59.51 0 1.02-.2 1.41-.59l7.78-7.78 2.81-2.81c.8-.78.8-2.07 0-2.86zM5.41 20L4 18.59l7.72-7.72 1.47 1.35L5.41 20z\"/>\n",
              "  </svg>\n",
              "      </button>\n",
              "      \n",
              "  <style>\n",
              "    .colab-df-container {\n",
              "      display:flex;\n",
              "      flex-wrap:wrap;\n",
              "      gap: 12px;\n",
              "    }\n",
              "\n",
              "    .colab-df-convert {\n",
              "      background-color: #E8F0FE;\n",
              "      border: none;\n",
              "      border-radius: 50%;\n",
              "      cursor: pointer;\n",
              "      display: none;\n",
              "      fill: #1967D2;\n",
              "      height: 32px;\n",
              "      padding: 0 0 0 0;\n",
              "      width: 32px;\n",
              "    }\n",
              "\n",
              "    .colab-df-convert:hover {\n",
              "      background-color: #E2EBFA;\n",
              "      box-shadow: 0px 1px 2px rgba(60, 64, 67, 0.3), 0px 1px 3px 1px rgba(60, 64, 67, 0.15);\n",
              "      fill: #174EA6;\n",
              "    }\n",
              "\n",
              "    [theme=dark] .colab-df-convert {\n",
              "      background-color: #3B4455;\n",
              "      fill: #D2E3FC;\n",
              "    }\n",
              "\n",
              "    [theme=dark] .colab-df-convert:hover {\n",
              "      background-color: #434B5C;\n",
              "      box-shadow: 0px 1px 3px 1px rgba(0, 0, 0, 0.15);\n",
              "      filter: drop-shadow(0px 1px 2px rgba(0, 0, 0, 0.3));\n",
              "      fill: #FFFFFF;\n",
              "    }\n",
              "  </style>\n",
              "\n",
              "      <script>\n",
              "        const buttonEl =\n",
              "          document.querySelector('#df-9a812963-c6b3-4cf6-882f-6d48c458b865 button.colab-df-convert');\n",
              "        buttonEl.style.display =\n",
              "          google.colab.kernel.accessAllowed ? 'block' : 'none';\n",
              "\n",
              "        async function convertToInteractive(key) {\n",
              "          const element = document.querySelector('#df-9a812963-c6b3-4cf6-882f-6d48c458b865');\n",
              "          const dataTable =\n",
              "            await google.colab.kernel.invokeFunction('convertToInteractive',\n",
              "                                                     [key], {});\n",
              "          if (!dataTable) return;\n",
              "\n",
              "          const docLinkHtml = 'Like what you see? Visit the ' +\n",
              "            '<a target=\"_blank\" href=https://colab.research.google.com/notebooks/data_table.ipynb>data table notebook</a>'\n",
              "            + ' to learn more about interactive tables.';\n",
              "          element.innerHTML = '';\n",
              "          dataTable['output_type'] = 'display_data';\n",
              "          await google.colab.output.renderOutput(dataTable, element);\n",
              "          const docLink = document.createElement('div');\n",
              "          docLink.innerHTML = docLinkHtml;\n",
              "          element.appendChild(docLink);\n",
              "        }\n",
              "      </script>\n",
              "    </div>\n",
              "  </div>\n",
              "  "
            ]
          },
          "metadata": {},
          "execution_count": 102
        }
      ]
    },
    {
      "cell_type": "code",
      "source": [
        "x_train, x_test,y_train,y_test = train_test_split(x,y,test_size=0.30, random_state=1,stratify=y)"
      ],
      "metadata": {
        "id": "YvR-hcs8GGRb"
      },
      "execution_count": null,
      "outputs": []
    },
    {
      "cell_type": "code",
      "source": [
        "scl = StandardScaler()"
      ],
      "metadata": {
        "id": "8Mn-hpUztKjJ"
      },
      "execution_count": null,
      "outputs": []
    },
    {
      "cell_type": "code",
      "source": [
        "scl.fit(x_train)"
      ],
      "metadata": {
        "colab": {
          "base_uri": "https://localhost:8080/"
        },
        "id": "5n4ojWnvtV2H",
        "outputId": "afda7665-84bf-4ded-ae2b-db027e677ad0"
      },
      "execution_count": null,
      "outputs": [
        {
          "output_type": "execute_result",
          "data": {
            "text/plain": [
              "StandardScaler()"
            ]
          },
          "metadata": {},
          "execution_count": 105
        }
      ]
    },
    {
      "cell_type": "code",
      "source": [
        "x_train_scl=scl.transform(x_train)"
      ],
      "metadata": {
        "id": "Xp2h5AOftas3"
      },
      "execution_count": null,
      "outputs": []
    },
    {
      "cell_type": "code",
      "source": [
        "x_test_scl=scl.transform(x_test)"
      ],
      "metadata": {
        "id": "M-1LBqIIu7Dq"
      },
      "execution_count": null,
      "outputs": []
    },
    {
      "cell_type": "code",
      "source": [
        "x_train_scl"
      ],
      "metadata": {
        "colab": {
          "base_uri": "https://localhost:8080/"
        },
        "id": "Trm7J8RNvNGj",
        "outputId": "f186bae8-5cb2-4c3e-dc78-9587e7e01425"
      },
      "execution_count": null,
      "outputs": [
        {
          "output_type": "execute_result",
          "data": {
            "text/plain": [
              "array([[ 4.50108353e-01, -1.04381619e+00,  1.32117653e+00,\n",
              "        -9.85814884e-01, -3.95929418e-01],\n",
              "       [ 1.40669537e+00, -1.04381619e+00,  1.32117653e+00,\n",
              "        -9.85814884e-01, -1.05886189e-01],\n",
              "       [-6.26052036e-01, -1.04381619e+00,  1.12256829e-01,\n",
              "        -9.85814884e-01,  2.11874791e+00],\n",
              "       [-1.10434554e+00,  9.58023079e-01,  1.32117653e+00,\n",
              "        -9.85814884e-01,  2.88592833e-01],\n",
              "       [ 1.04797524e+00, -1.04381619e+00, -1.09666287e+00,\n",
              "        -9.85814884e-01,  1.10587245e+00],\n",
              "       [-1.28370561e+00,  9.58023079e-01, -1.09666287e+00,\n",
              "         1.01438923e+00,  1.46229436e+00],\n",
              "       [-1.16413223e+00, -1.04381619e+00, -1.09666287e+00,\n",
              "         1.01438923e+00,  2.18547519e-01],\n",
              "       [-2.07545218e-01, -1.04381619e+00,  1.32117653e+00,\n",
              "        -9.85814884e-01, -8.37695348e-01],\n",
              "       [-7.45625412e-01,  9.58023079e-01, -1.09666287e+00,\n",
              "         1.01438923e+00, -6.95581752e-01],\n",
              "       [-1.64242574e+00,  9.58023079e-01,  1.12256829e-01,\n",
              "        -9.85814884e-01, -5.97088432e-01],\n",
              "       [ 9.13882235e-02,  9.58023079e-01,  1.12256829e-01,\n",
              "         1.01438923e+00, -1.05680822e+00],\n",
              "       [-1.40327898e+00, -1.04381619e+00,  1.12256829e-01,\n",
              "         1.01438923e+00, -6.37547819e-01],\n",
              "       [-2.67331906e-01, -1.04381619e+00,  1.32117653e+00,\n",
              "         1.01438923e+00, -8.87510968e-01],\n",
              "       [-8.05412101e-01, -1.04381619e+00,  1.32117653e+00,\n",
              "        -9.85814884e-01, -7.94707250e-01],\n",
              "       [ 1.52626874e+00,  9.58023079e-01,  1.12256829e-01,\n",
              "        -9.85814884e-01, -1.58104085e-01],\n",
              "       [ 1.51174912e-01, -1.04381619e+00, -1.09666287e+00,\n",
              "        -9.85814884e-01,  2.27047061e+00],\n",
              "       [-3.27118594e-01, -1.04381619e+00, -1.09666287e+00,\n",
              "         1.01438923e+00, -6.83064629e-01],\n",
              "       [ 9.13882235e-02,  9.58023079e-01,  1.12256829e-01,\n",
              "        -9.85814884e-01,  1.54571114e-01],\n",
              "       [-1.28370561e+00,  9.58023079e-01,  1.12256829e-01,\n",
              "        -9.85814884e-01, -1.08449761e+00],\n",
              "       [ 8.08828483e-01, -1.04381619e+00,  1.32117653e+00,\n",
              "        -9.85814884e-01, -3.17665792e-01],\n",
              "       [-1.22391892e+00,  9.58023079e-01,  1.12256829e-01,\n",
              "        -9.85814884e-01, -1.19234716e+00],\n",
              "       [ 7.49041794e-01, -1.04381619e+00, -1.09666287e+00,\n",
              "        -9.85814884e-01,  1.09575760e+00],\n",
              "       [-4.46691971e-01, -1.04381619e+00,  1.32117653e+00,\n",
              "        -9.85814884e-01,  3.10128425e-03],\n",
              "       [ 7.49041794e-01,  9.58023079e-01,  1.12256829e-01,\n",
              "        -9.85814884e-01, -2.16643760e-01],\n",
              "       [-6.85838724e-01,  9.58023079e-01, -1.09666287e+00,\n",
              "         1.01438923e+00, -9.20889962e-01],\n",
              "       [ 1.28712199e+00,  9.58023079e-01, -1.09666287e+00,\n",
              "         1.01438923e+00,  2.30979208e+00],\n",
              "       [ 1.28712199e+00,  9.58023079e-01, -1.09666287e+00,\n",
              "         1.01438923e+00, -6.81294531e-01],\n",
              "       [-8.79718413e-02, -1.04381619e+00, -1.09666287e+00,\n",
              "        -9.85814884e-01,  5.44624890e-01],\n",
              "       [ 3.90321665e-01, -1.04381619e+00,  1.32117653e+00,\n",
              "         1.01438923e+00,  6.10087816e-02],\n",
              "       [-1.40327898e+00,  9.58023079e-01, -1.09666287e+00,\n",
              "         1.01438923e+00,  2.39096372e+00],\n",
              "       [ 1.10776192e+00,  9.58023079e-01,  1.32117653e+00,\n",
              "        -9.85814884e-01, -1.70019736e-02],\n",
              "       [-9.24985477e-01, -1.04381619e+00,  1.32117653e+00,\n",
              "        -9.85814884e-01, -4.86710168e-01],\n",
              "       [ 3.90321665e-01, -1.04381619e+00,  1.32117653e+00,\n",
              "        -9.85814884e-01, -5.08962830e-01],\n",
              "       [ 2.10961600e-01, -1.04381619e+00,  1.12256829e-01,\n",
              "        -9.85814884e-01, -8.42247029e-01],\n",
              "       [-1.22391892e+00,  9.58023079e-01,  1.32117653e+00,\n",
              "         1.01438923e+00, -3.42447166e-01],\n",
              "       [-7.45625412e-01,  9.58023079e-01, -1.09666287e+00,\n",
              "        -9.85814884e-01,  1.72426889e+00],\n",
              "       [-3.86905283e-01, -1.04381619e+00, -1.09666287e+00,\n",
              "         1.01438923e+00,  8.04450015e-01],\n",
              "       [-2.67331906e-01,  9.58023079e-01,  1.32117653e+00,\n",
              "        -9.85814884e-01, -9.60242135e-02],\n",
              "       [-5.06478659e-01,  9.58023079e-01,  1.32117653e+00,\n",
              "         1.01438923e+00, -1.12318690e+00],\n",
              "       [ 5.09895041e-01,  9.58023079e-01,  1.12256829e-01,\n",
              "         1.01438923e+00,  2.04743824e+00],\n",
              "       [ 3.30534977e-01,  9.58023079e-01, -1.09666287e+00,\n",
              "         1.01438923e+00, -1.32244938e+00],\n",
              "       [ 1.82520218e+00,  9.58023079e-01, -1.09666287e+00,\n",
              "        -9.85814884e-01, -9.05464821e-01],\n",
              "       [-1.47758530e-01, -1.04381619e+00,  1.32117653e+00,\n",
              "         1.01438923e+00,  7.80932996e-01],\n",
              "       [ 6.89255106e-01, -1.04381619e+00, -1.09666287e+00,\n",
              "        -9.85814884e-01, -7.27190648e-01],\n",
              "       [-8.79718413e-02,  9.58023079e-01, -1.09666287e+00,\n",
              "         1.01438923e+00, -5.00997388e-01],\n",
              "       [ 3.30534977e-01,  9.58023079e-01,  1.12256829e-01,\n",
              "         1.01438923e+00, -7.22512531e-01],\n",
              "       [ 2.10961600e-01, -1.04381619e+00,  1.32117653e+00,\n",
              "         1.01438923e+00, -1.27010504e+00],\n",
              "       [-1.40327898e+00, -1.04381619e+00, -1.09666287e+00,\n",
              "        -9.85814884e-01, -6.91156507e-01],\n",
              "       [-1.70221242e+00, -1.04381619e+00, -1.09666287e+00,\n",
              "         1.01438923e+00, -4.38912098e-04],\n",
              "       [ 8.08828483e-01, -1.04381619e+00, -1.09666287e+00,\n",
              "         1.01438923e+00, -8.57672170e-01],\n",
              "       [-2.67331906e-01,  9.58023079e-01,  1.12256829e-01,\n",
              "         1.01438923e+00, -3.52814884e-01],\n",
              "       [ 2.70748288e-01,  9.58023079e-01, -1.09666287e+00,\n",
              "         1.01438923e+00, -7.94327943e-01],\n",
              "       [-1.16413223e+00, -1.04381619e+00,  1.32117653e+00,\n",
              "        -9.85814884e-01, -7.74224685e-01],\n",
              "       [ 1.46648205e+00, -1.04381619e+00,  1.32117653e+00,\n",
              "         1.01438923e+00,  1.30500849e+00],\n",
              "       [-1.22391892e+00, -1.04381619e+00, -1.09666287e+00,\n",
              "        -9.85814884e-01,  1.09070018e+00],\n",
              "       [ 1.70562881e+00, -1.04381619e+00,  1.12256829e-01,\n",
              "         1.01438923e+00, -2.63804233e-01],\n",
              "       [ 1.58605543e+00, -1.04381619e+00,  1.32117653e+00,\n",
              "        -9.85814884e-01,  4.75464625e-01],\n",
              "       [ 9.88188548e-01,  9.58023079e-01,  1.32117653e+00,\n",
              "        -9.85814884e-01, -1.96919809e-01],\n",
              "       [ 5.69681730e-01, -1.04381619e+00, -1.09666287e+00,\n",
              "         1.01438923e+00, -5.35261432e-01],\n",
              "       [ 3.90321665e-01,  9.58023079e-01, -1.09666287e+00,\n",
              "        -9.85814884e-01, -1.16807153e+00],\n",
              "       [-2.67331906e-01,  9.58023079e-01, -1.09666287e+00,\n",
              "        -9.85814884e-01, -8.93200570e-01],\n",
              "       [-1.46306567e+00, -1.04381619e+00, -1.09666287e+00,\n",
              "        -9.85814884e-01, -4.31837124e-01],\n",
              "       [-3.27118594e-01, -1.04381619e+00,  1.12256829e-01,\n",
              "         1.01438923e+00,  1.66218902e+00],\n",
              "       [ 4.50108353e-01,  9.58023079e-01, -1.09666287e+00,\n",
              "        -9.85814884e-01,  1.98064955e-01],\n",
              "       [ 9.88188548e-01,  9.58023079e-01, -1.09666287e+00,\n",
              "        -9.85814884e-01, -3.53320627e-01],\n",
              "       [-9.24985477e-01,  9.58023079e-01,  1.32117653e+00,\n",
              "        -9.85814884e-01,  1.30677859e+00],\n",
              "       [-8.65198789e-01, -1.04381619e+00, -1.09666287e+00,\n",
              "        -9.85814884e-01,  1.60845389e+00],\n",
              "       [-6.85838724e-01, -1.04381619e+00,  1.12256829e-01,\n",
              "         1.01438923e+00, -7.44512323e-01],\n",
              "       [-3.86905283e-01, -1.04381619e+00,  1.12256829e-01,\n",
              "         1.01438923e+00, -5.97088432e-01],\n",
              "       [-6.85838724e-01, -1.04381619e+00, -1.09666287e+00,\n",
              "         1.01438923e+00,  1.16896380e+00],\n",
              "       [-5.66265347e-01,  9.58023079e-01,  1.32117653e+00,\n",
              "        -9.85814884e-01,  7.24163419e-01],\n",
              "       [ 1.82520218e+00,  9.58023079e-01,  1.12256829e-01,\n",
              "         1.01438923e+00, -6.05559616e-01],\n",
              "       [ 1.58605543e+00,  9.58023079e-01, -1.09666287e+00,\n",
              "        -9.85814884e-01, -3.49148252e-01],\n",
              "       [-1.04455885e+00, -1.04381619e+00, -1.09666287e+00,\n",
              "         1.01438923e+00,  3.07558170e-01],\n",
              "       [-1.16413223e+00,  9.58023079e-01,  1.32117653e+00,\n",
              "        -9.85814884e-01,  1.14519391e+00],\n",
              "       [-5.66265347e-01, -1.04381619e+00, -1.09666287e+00,\n",
              "         1.01438923e+00,  3.12362722e-01],\n",
              "       [ 1.34690868e+00, -1.04381619e+00,  1.32117653e+00,\n",
              "         1.01438923e+00, -1.09006077e+00],\n",
              "       [ 1.04797524e+00, -1.04381619e+00,  1.12256829e-01,\n",
              "        -9.85814884e-01,  1.66203187e-01],\n",
              "       [-1.52285236e+00, -1.04381619e+00, -1.09666287e+00,\n",
              "         1.01438923e+00,  9.54276181e-01],\n",
              "       [ 1.22733530e+00, -1.04381619e+00,  1.12256829e-01,\n",
              "         1.01438923e+00,  1.13950431e+00],\n",
              "       [ 3.30534977e-01,  9.58023079e-01, -1.09666287e+00,\n",
              "         1.01438923e+00, -1.01508447e+00],\n",
              "       [-1.46306567e+00, -1.04381619e+00, -1.09666287e+00,\n",
              "         1.01438923e+00,  1.16833162e+00],\n",
              "       [ 1.28712199e+00, -1.04381619e+00,  1.12256829e-01,\n",
              "         1.01438923e+00, -3.74182498e-01],\n",
              "       [ 1.10776192e+00,  9.58023079e-01,  1.12256829e-01,\n",
              "         1.01438923e+00,  1.32182442e+00],\n",
              "       [-1.52285236e+00, -1.04381619e+00, -1.09666287e+00,\n",
              "        -9.85814884e-01,  2.58681244e+00],\n",
              "       [ 1.52626874e+00, -1.04381619e+00,  1.32117653e+00,\n",
              "        -9.85814884e-01, -8.42499900e-01],\n",
              "       [ 1.16754861e+00,  9.58023079e-01,  1.32117653e+00,\n",
              "        -9.85814884e-01,  1.16175697e+00],\n",
              "       [-3.86905283e-01,  9.58023079e-01,  1.12256829e-01,\n",
              "         1.01438923e+00, -5.65347682e-04],\n",
              "       [-6.85838724e-01, -1.04381619e+00,  1.12256829e-01,\n",
              "        -9.85814884e-01, -8.87131662e-01],\n",
              "       [ 1.51174912e-01,  9.58023079e-01,  1.32117653e+00,\n",
              "         1.01438923e+00, -1.19399082e+00],\n",
              "       [ 6.29468418e-01,  9.58023079e-01,  1.32117653e+00,\n",
              "        -9.85814884e-01,  1.00257457e+00],\n",
              "       [ 1.40669537e+00,  9.58023079e-01,  1.32117653e+00,\n",
              "         1.01438923e+00, -9.12165907e-01],\n",
              "       [-8.65198789e-01,  9.58023079e-01, -1.09666287e+00,\n",
              "        -9.85814884e-01, -4.89618186e-01],\n",
              "       [ 8.68615171e-01, -1.04381619e+00,  1.12256829e-01,\n",
              "        -9.85814884e-01,  2.72070772e+00],\n",
              "       [ 4.50108353e-01,  9.58023079e-01, -1.09666287e+00,\n",
              "         1.01438923e+00, -6.80915224e-01],\n",
              "       [ 1.58605543e+00,  9.58023079e-01, -1.09666287e+00,\n",
              "        -9.85814884e-01, -8.69809987e-01],\n",
              "       [-2.81851530e-02,  9.58023079e-01, -1.09666287e+00,\n",
              "        -9.85814884e-01, -3.48516074e-01],\n",
              "       [-1.64242574e+00, -1.04381619e+00, -1.09666287e+00,\n",
              "         1.01438923e+00, -1.53299533e-01],\n",
              "       [-1.04455885e+00, -1.04381619e+00,  1.12256829e-01,\n",
              "        -9.85814884e-01, -3.24746185e-01],\n",
              "       [-1.04455885e+00, -1.04381619e+00, -1.09666287e+00,\n",
              "         1.01438923e+00, -5.59031321e-01],\n",
              "       [ 3.30534977e-01,  9.58023079e-01,  1.12256829e-01,\n",
              "         1.01438923e+00, -3.95802983e-01],\n",
              "       [ 1.70562881e+00,  9.58023079e-01, -1.09666287e+00,\n",
              "         1.01438923e+00, -8.91556907e-01],\n",
              "       [ 8.68615171e-01, -1.04381619e+00, -1.09666287e+00,\n",
              "         1.01438923e+00, -3.14757774e-01],\n",
              "       [-1.34349229e+00, -1.04381619e+00, -1.09666287e+00,\n",
              "         1.01438923e+00,  1.50502958e+00],\n",
              "       [-1.52285236e+00, -1.04381619e+00,  1.32117653e+00,\n",
              "         1.01438923e+00, -1.00876269e+00],\n",
              "       [-5.06478659e-01,  9.58023079e-01,  1.12256829e-01,\n",
              "         1.01438923e+00, -9.55659748e-01],\n",
              "       [ 1.34690868e+00,  9.58023079e-01, -1.09666287e+00,\n",
              "        -9.85814884e-01, -4.82315628e-02],\n",
              "       [ 1.22733530e+00,  9.58023079e-01,  1.32117653e+00,\n",
              "        -9.85814884e-01, -1.13380749e+00],\n",
              "       [ 2.10961600e-01,  9.58023079e-01,  1.12256829e-01,\n",
              "         1.01438923e+00,  2.12582830e+00],\n",
              "       [-9.24985477e-01, -1.04381619e+00,  1.32117653e+00,\n",
              "        -9.85814884e-01,  3.72546060e-01],\n",
              "       [-2.67331906e-01, -1.04381619e+00,  1.12256829e-01,\n",
              "         1.01438923e+00,  7.54634395e-01],\n",
              "       [ 1.22733530e+00,  9.58023079e-01, -1.09666287e+00,\n",
              "         1.01438923e+00,  5.31475589e-01],\n",
              "       [ 1.28712199e+00, -1.04381619e+00, -1.09666287e+00,\n",
              "         1.01438923e+00,  1.91518662e+00],\n",
              "       [-1.04455885e+00,  9.58023079e-01,  1.12256829e-01,\n",
              "         1.01438923e+00,  5.28567571e-01],\n",
              "       [-3.86905283e-01, -1.04381619e+00, -1.09666287e+00,\n",
              "        -9.85814884e-01, -4.59905824e-01],\n",
              "       [ 5.69681730e-01,  9.58023079e-01,  1.32117653e+00,\n",
              "        -9.85814884e-01, -3.28159945e-01],\n",
              "       [-1.22391892e+00,  9.58023079e-01,  1.32117653e+00,\n",
              "        -9.85814884e-01,  1.53655359e-02],\n",
              "       [-1.22391892e+00,  9.58023079e-01,  1.32117653e+00,\n",
              "        -9.85814884e-01,  1.89116386e+00],\n",
              "       [ 1.70562881e+00,  9.58023079e-01,  1.12256829e-01,\n",
              "        -9.85814884e-01, -1.25923158e+00],\n",
              "       [ 1.70562881e+00,  9.58023079e-01,  1.12256829e-01,\n",
              "        -9.85814884e-01, -5.29096794e-02],\n",
              "       [ 9.13882235e-02,  9.58023079e-01,  1.12256829e-01,\n",
              "         1.01438923e+00, -8.48568808e-01],\n",
              "       [ 1.46648205e+00,  9.58023079e-01,  1.12256829e-01,\n",
              "        -9.85814884e-01, -8.13925458e-01],\n",
              "       [ 3.30534977e-01,  9.58023079e-01,  1.12256829e-01,\n",
              "        -9.85814884e-01, -7.82822305e-01],\n",
              "       [-1.40327898e+00, -1.04381619e+00,  1.32117653e+00,\n",
              "         1.01438923e+00, -9.41625398e-01],\n",
              "       [-2.81851530e-02,  9.58023079e-01,  1.32117653e+00,\n",
              "         1.01438923e+00, -4.89238879e-01],\n",
              "       [ 8.68615171e-01, -1.04381619e+00,  1.12256829e-01,\n",
              "        -9.85814884e-01,  1.25380208e+00],\n",
              "       [-2.81851530e-02,  9.58023079e-01,  1.12256829e-01,\n",
              "         1.01438923e+00,  3.33730336e-01],\n",
              "       [-1.16413223e+00,  9.58023079e-01, -1.09666287e+00,\n",
              "         1.01438923e+00, -9.17096895e-01],\n",
              "       [-1.47758530e-01,  9.58023079e-01,  1.12256829e-01,\n",
              "        -9.85814884e-01, -7.19604513e-01],\n",
              "       [ 2.10961600e-01, -1.04381619e+00,  1.12256829e-01,\n",
              "        -9.85814884e-01, -6.27306537e-01],\n",
              "       [-4.46691971e-01,  9.58023079e-01,  1.12256829e-01,\n",
              "         1.01438923e+00, -6.70673942e-01],\n",
              "       [ 1.04797524e+00,  9.58023079e-01,  1.32117653e+00,\n",
              "        -9.85814884e-01, -9.21142834e-01],\n",
              "       [-5.66265347e-01,  9.58023079e-01, -1.09666287e+00,\n",
              "        -9.85814884e-01,  2.49650673e-01],\n",
              "       [-1.28370561e+00, -1.04381619e+00,  1.32117653e+00,\n",
              "        -9.85814884e-01, -1.02684298e+00],\n",
              "       [ 1.04797524e+00, -1.04381619e+00,  1.12256829e-01,\n",
              "         1.01438923e+00, -1.18703687e+00],\n",
              "       [-9.24985477e-01, -1.04381619e+00, -1.09666287e+00,\n",
              "         1.01438923e+00,  2.63052845e-01],\n",
              "       [ 2.10961600e-01,  9.58023079e-01,  1.12256829e-01,\n",
              "         1.01438923e+00,  1.74980887e+00],\n",
              "       [-2.07545218e-01,  9.58023079e-01, -1.09666287e+00,\n",
              "        -9.85814884e-01,  1.40312250e+00],\n",
              "       [-1.70221242e+00,  9.58023079e-01,  1.32117653e+00,\n",
              "        -9.85814884e-01, -9.66533208e-01],\n",
              "       [ 3.90321665e-01, -1.04381619e+00,  1.32117653e+00,\n",
              "         1.01438923e+00, -5.60548548e-01]])"
            ]
          },
          "metadata": {},
          "execution_count": 108
        }
      ]
    },
    {
      "cell_type": "code",
      "source": [
        "x_test_scl"
      ],
      "metadata": {
        "colab": {
          "base_uri": "https://localhost:8080/"
        },
        "id": "PyQtIhmAGM45",
        "outputId": "9409fe80-110c-4bfb-df15-cad62ecc75ed"
      },
      "execution_count": null,
      "outputs": [
        {
          "output_type": "execute_result",
          "data": {
            "text/plain": [
              "array([[ 0.92840186,  0.95802308, -1.09666287, -0.98581488, -0.35319419],\n",
              "       [-0.32711859,  0.95802308,  0.11225683, -0.98581488,  0.19806495],\n",
              "       [-0.26733191, -1.04381619,  1.32117653,  1.01438923,  0.06277888],\n",
              "       [ 0.33053498, -1.04381619,  1.32117653, -0.98581488, -0.05733492],\n",
              "       [-0.56626535, -1.04381619,  0.11225683,  1.01438923, -0.481147  ],\n",
              "       [-0.08797184, -1.04381619,  0.11225683,  1.01438923,  1.58582192],\n",
              "       [ 0.2109616 ,  0.95802308,  0.11225683, -0.98581488, -0.83630456],\n",
              "       [-0.44669197, -1.04381619, -1.09666287,  1.01438923, -0.15658686],\n",
              "       [-0.68583872, -1.04381619,  1.32117653, -0.98581488, -1.16971519],\n",
              "       [ 0.2109616 ,  0.95802308,  0.11225683, -0.98581488, -0.45965295],\n",
              "       [ 0.98818855, -1.04381619, -1.09666287, -0.98581488, -0.43310148],\n",
              "       [-0.14775853, -1.04381619,  0.11225683,  1.01438923,  0.25420235],\n",
              "       [ 0.45010835, -1.04381619,  0.11225683,  1.01438923,  0.79332368],\n",
              "       [-0.68583872, -1.04381619, -1.09666287,  1.01438923, -0.81379902],\n",
              "       [ 1.40669537,  0.95802308,  0.11225683,  1.01438923,  0.50125748],\n",
              "       [-0.08797184,  0.95802308,  0.11225683, -0.98581488,  0.41528129],\n",
              "       [-0.02818515,  0.95802308,  0.11225683, -0.98581488, -0.17100051],\n",
              "       [ 0.86861517,  0.95802308, -1.09666287, -0.98581488,  0.28606412],\n",
              "       [-1.28370561,  0.95802308,  1.32117653, -0.98581488, -0.60378952],\n",
              "       [-1.28370561, -1.04381619, -1.09666287,  1.01438923,  0.7699331 ],\n",
              "       [ 1.40669537,  0.95802308,  1.32117653,  1.01438923, -0.73717906],\n",
              "       [-0.92498548, -1.04381619,  0.11225683, -0.98581488, -0.45535414],\n",
              "       [-0.50647866, -1.04381619, -1.09666287, -0.98581488, -0.48481363],\n",
              "       [ 1.7654155 , -1.04381619, -1.09666287, -0.98581488,  0.20476604],\n",
              "       [ 0.98818855,  0.95802308, -1.09666287,  1.01438923, -1.02507288],\n",
              "       [ 1.46648205,  0.95802308, -1.09666287, -0.98581488, -0.72314471],\n",
              "       [ 0.80882848, -1.04381619,  1.32117653,  1.01438923,  1.15872252],\n",
              "       [ 1.7654155 , -1.04381619,  1.32117653, -0.98581488,  0.31514431],\n",
              "       [ 0.39032166,  0.95802308,  1.32117653,  1.01438923, -0.11865618],\n",
              "       [ 0.74904179,  0.95802308,  1.32117653, -0.98581488, -0.98145261],\n",
              "       [ 0.80882848,  0.95802308,  0.11225683,  1.01438923,  0.3033858 ],\n",
              "       [ 1.82520218,  0.95802308, -1.09666287,  1.01438923, -0.16341438],\n",
              "       [ 0.98818855,  0.95802308,  1.32117653,  1.01438923, -0.83921258],\n",
              "       [ 1.46648205, -1.04381619, -1.09666287,  1.01438923, -0.82682189],\n",
              "       [ 1.52626874,  0.95802308,  0.11225683,  1.01438923, -0.66675444],\n",
              "       [-0.20754522, -1.04381619,  0.11225683,  1.01438923, -0.68015661],\n",
              "       [ 0.09138822, -1.04381619, -1.09666287, -0.98581488, -0.48987106],\n",
              "       [-1.64242574,  0.95802308, -1.09666287,  1.01438923,  0.28808709],\n",
              "       [ 0.68925511,  0.95802308,  1.32117653,  1.01438923, -1.19702528],\n",
              "       [-0.92498548, -1.04381619,  0.11225683, -0.98581488,  0.38784477],\n",
              "       [ 0.92840186, -1.04381619,  0.11225683, -0.98581488, -0.79458081],\n",
              "       [-0.14775853,  0.95802308, -1.09666287,  1.01438923, -0.19881634],\n",
              "       [ 0.50989504,  0.95802308,  1.32117653, -0.98581488, -0.86412039],\n",
              "       [ 0.27074829, -1.04381619,  0.11225683, -0.98581488, -0.21398861],\n",
              "       [ 1.82520218, -1.04381619,  0.11225683, -0.98581488,  0.53273994],\n",
              "       [ 0.74904179, -1.04381619,  0.11225683, -0.98581488, -0.65259365],\n",
              "       [-0.44669197, -1.04381619, -1.09666287, -0.98581488, -0.69924838],\n",
              "       [-0.74562541,  0.95802308, -1.09666287,  1.01438923, -0.61415724],\n",
              "       [ 0.86861517, -1.04381619, -1.09666287, -0.98581488,  0.33979924],\n",
              "       [-1.58263905,  0.95802308,  1.32117653,  1.01438923, -0.74552381],\n",
              "       [-1.22391892,  0.95802308, -1.09666287, -0.98581488, -1.10219859],\n",
              "       [-1.70221242,  0.95802308, -1.09666287,  1.01438923,  0.0603766 ],\n",
              "       [ 0.56968173,  0.95802308,  0.11225683, -0.98581488,  0.78826626],\n",
              "       [-0.92498548, -1.04381619,  1.32117653, -0.98581488, -1.12912937],\n",
              "       [-1.22391892,  0.95802308,  1.32117653, -0.98581488, -0.56497379],\n",
              "       [ 0.92840186, -1.04381619,  1.32117653, -0.98581488, -0.35964241],\n",
              "       [ 0.33053498, -1.04381619,  1.32117653,  1.01438923, -0.92898184],\n",
              "       [-0.38690528,  0.95802308,  0.11225683,  1.01438923, -0.98119974],\n",
              "       [ 0.2109616 ,  0.95802308, -1.09666287, -0.98581488, -0.79976467],\n",
              "       [-0.74562541,  0.95802308, -1.09666287,  1.01438923,  0.04305493]])"
            ]
          },
          "metadata": {},
          "execution_count": 109
        }
      ]
    },
    {
      "cell_type": "code",
      "source": [
        "y_train.head()"
      ],
      "metadata": {
        "colab": {
          "base_uri": "https://localhost:8080/"
        },
        "id": "m8ktdm6iGdlZ",
        "outputId": "74a3b482-dbfc-497d-dd70-781a137ecaff"
      },
      "execution_count": null,
      "outputs": [
        {
          "output_type": "execute_result",
          "data": {
            "text/plain": [
              "86     drugX\n",
              "179    drugY\n",
              "24     drugY\n",
              "177    drugY\n",
              "119    drugY\n",
              "Name: Drug, dtype: object"
            ]
          },
          "metadata": {},
          "execution_count": 110
        }
      ]
    },
    {
      "cell_type": "code",
      "source": [
        "y_test.head()"
      ],
      "metadata": {
        "colab": {
          "base_uri": "https://localhost:8080/"
        },
        "id": "g5OHhDaAG8uD",
        "outputId": "64f10d9d-1a2c-4b27-ac19-226054619c05"
      },
      "execution_count": null,
      "outputs": [
        {
          "output_type": "execute_result",
          "data": {
            "text/plain": [
              "85     drugB\n",
              "165    drugY\n",
              "172    drugY\n",
              "6      drugY\n",
              "159    drugX\n",
              "Name: Drug, dtype: object"
            ]
          },
          "metadata": {},
          "execution_count": 111
        }
      ]
    },
    {
      "cell_type": "code",
      "source": [
        "knn=KNeighborsClassifier(n_neighbors=3)"
      ],
      "metadata": {
        "id": "ErgpH__eHDTa"
      },
      "execution_count": null,
      "outputs": []
    },
    {
      "cell_type": "code",
      "source": [
        "knn.fit(x_train_scl,y_train)"
      ],
      "metadata": {
        "colab": {
          "base_uri": "https://localhost:8080/"
        },
        "id": "YY17hjIBHMeJ",
        "outputId": "38d76715-b8ef-419e-9a1e-9339bd245d46"
      },
      "execution_count": null,
      "outputs": [
        {
          "output_type": "execute_result",
          "data": {
            "text/plain": [
              "KNeighborsClassifier(n_neighbors=3)"
            ]
          },
          "metadata": {},
          "execution_count": 113
        }
      ]
    },
    {
      "cell_type": "code",
      "source": [
        "y_pred_train= knn.predict(x_train_scl)"
      ],
      "metadata": {
        "id": "USdIh1QRvmhv"
      },
      "execution_count": null,
      "outputs": []
    },
    {
      "cell_type": "code",
      "source": [
        "y_pred_test = knn.predict(x_test_scl)"
      ],
      "metadata": {
        "id": "1tUXwinFHcyx"
      },
      "execution_count": null,
      "outputs": []
    },
    {
      "cell_type": "code",
      "source": [
        "y_pred_test"
      ],
      "metadata": {
        "colab": {
          "base_uri": "https://localhost:8080/"
        },
        "id": "zkJMYPpdwo5A",
        "outputId": "98cee9c0-55d7-4a1d-bc3c-94e1b1c5fa45"
      },
      "execution_count": null,
      "outputs": [
        {
          "output_type": "execute_result",
          "data": {
            "text/plain": [
              "array(['drugB', 'drugY', 'drugY', 'drugX', 'drugX', 'drugY', 'drugC',\n",
              "       'drugY', 'drugX', 'drugC', 'drugA', 'drugX', 'drugY', 'drugA',\n",
              "       'drugY', 'drugY', 'drugC', 'drugY', 'drugY', 'drugY', 'drugX',\n",
              "       'drugC', 'drugA', 'drugY', 'drugB', 'drugB', 'drugY', 'drugY',\n",
              "       'drugX', 'drugX', 'drugY', 'drugB', 'drugX', 'drugB', 'drugX',\n",
              "       'drugX', 'drugA', 'drugA', 'drugX', 'drugC', 'drugC', 'drugA',\n",
              "       'drugX', 'drugC', 'drugY', 'drugC', 'drugA', 'drugA', 'drugY',\n",
              "       'drugX', 'drugA', 'drugA', 'drugY', 'drugX', 'drugY', 'drugX',\n",
              "       'drugX', 'drugX', 'drugA', 'drugA'], dtype=object)"
            ]
          },
          "metadata": {},
          "execution_count": 116
        }
      ]
    },
    {
      "cell_type": "code",
      "source": [
        "acc_score_train = accuracy_score(y_pred_train,y_train)"
      ],
      "metadata": {
        "id": "BlSnlw3Vv5aV"
      },
      "execution_count": null,
      "outputs": []
    },
    {
      "cell_type": "code",
      "source": [
        "acc_score_test = accuracy_score(y_pred_test,y_test)"
      ],
      "metadata": {
        "id": "bU9Zqf7kHrz0"
      },
      "execution_count": null,
      "outputs": []
    },
    {
      "cell_type": "code",
      "source": [
        "acc_score_train"
      ],
      "metadata": {
        "colab": {
          "base_uri": "https://localhost:8080/"
        },
        "id": "8CRv2EZYH8-s",
        "outputId": "a7d332dc-88cd-4b87-ccfe-6dbae9e630a0"
      },
      "execution_count": null,
      "outputs": [
        {
          "output_type": "execute_result",
          "data": {
            "text/plain": [
              "0.9428571428571428"
            ]
          },
          "metadata": {},
          "execution_count": 119
        }
      ]
    },
    {
      "cell_type": "code",
      "source": [
        "acc_score_test"
      ],
      "metadata": {
        "colab": {
          "base_uri": "https://localhost:8080/"
        },
        "id": "w3j0gKxtwEpE",
        "outputId": "454ecc7d-1a4e-42ae-e203-4bf258c3090f"
      },
      "execution_count": null,
      "outputs": [
        {
          "output_type": "execute_result",
          "data": {
            "text/plain": [
              "0.7666666666666667"
            ]
          },
          "metadata": {},
          "execution_count": 120
        }
      ]
    },
    {
      "cell_type": "code",
      "source": [
        "confusion_matrix(y_pred_train,y_train)"
      ],
      "metadata": {
        "colab": {
          "base_uri": "https://localhost:8080/"
        },
        "id": "aQErw3DHwIw0",
        "outputId": "252303c7-d2b1-4a4c-e82f-1d99a451472d"
      },
      "execution_count": null,
      "outputs": [
        {
          "output_type": "execute_result",
          "data": {
            "text/plain": [
              "array([[16,  2,  0,  0,  2],\n",
              "       [ 0,  9,  0,  0,  2],\n",
              "       [ 0,  0, 11,  1,  0],\n",
              "       [ 0,  0,  0, 36,  0],\n",
              "       [ 0,  0,  0,  1, 60]])"
            ]
          },
          "metadata": {},
          "execution_count": 121
        }
      ]
    },
    {
      "cell_type": "code",
      "source": [
        "confusion_matrix(y_pred_test,y_test)"
      ],
      "metadata": {
        "colab": {
          "base_uri": "https://localhost:8080/"
        },
        "id": "_9ie_S-9IgDR",
        "outputId": "33161b60-7f91-44ef-8f6f-4b661c523327"
      },
      "execution_count": null,
      "outputs": [
        {
          "output_type": "execute_result",
          "data": {
            "text/plain": [
              "array([[ 7,  1,  0,  0,  4],\n",
              "       [ 0,  4,  0,  0,  1],\n",
              "       [ 0,  0,  5,  0,  3],\n",
              "       [ 0,  0,  0, 14,  3],\n",
              "       [ 0,  0,  0,  2, 16]])"
            ]
          },
          "metadata": {},
          "execution_count": 122
        }
      ]
    },
    {
      "cell_type": "code",
      "source": [
        "print(classification_report(y_pred_train,y_train))"
      ],
      "metadata": {
        "colab": {
          "base_uri": "https://localhost:8080/"
        },
        "id": "qG8EiESRwQxk",
        "outputId": "a428a9c0-5f45-4327-a1b1-3a1bfea9757d"
      },
      "execution_count": null,
      "outputs": [
        {
          "output_type": "stream",
          "name": "stdout",
          "text": [
            "              precision    recall  f1-score   support\n",
            "\n",
            "       drugA       1.00      0.80      0.89        20\n",
            "       drugB       0.82      0.82      0.82        11\n",
            "       drugC       1.00      0.92      0.96        12\n",
            "       drugX       0.95      1.00      0.97        36\n",
            "       drugY       0.94      0.98      0.96        61\n",
            "\n",
            "    accuracy                           0.94       140\n",
            "   macro avg       0.94      0.90      0.92       140\n",
            "weighted avg       0.94      0.94      0.94       140\n",
            "\n"
          ]
        }
      ]
    },
    {
      "cell_type": "code",
      "source": [
        "print(classification_report(y_pred_test,y_test))"
      ],
      "metadata": {
        "colab": {
          "base_uri": "https://localhost:8080/"
        },
        "id": "mQbckgGrJXLp",
        "outputId": "47df8238-d326-46a1-9a9c-dfe469da6562"
      },
      "execution_count": null,
      "outputs": [
        {
          "output_type": "stream",
          "name": "stdout",
          "text": [
            "              precision    recall  f1-score   support\n",
            "\n",
            "       drugA       1.00      0.58      0.74        12\n",
            "       drugB       0.80      0.80      0.80         5\n",
            "       drugC       1.00      0.62      0.77         8\n",
            "       drugX       0.88      0.82      0.85        17\n",
            "       drugY       0.59      0.89      0.71        18\n",
            "\n",
            "    accuracy                           0.77        60\n",
            "   macro avg       0.85      0.74      0.77        60\n",
            "weighted avg       0.83      0.77      0.77        60\n",
            "\n"
          ]
        }
      ]
    }
  ]
}